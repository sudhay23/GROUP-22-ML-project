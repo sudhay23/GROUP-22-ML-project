{
  "nbformat": 4,
  "nbformat_minor": 0,
  "metadata": {
    "colab": {
      "name": "MalwareDetection.ipynb",
      "provenance": [],
      "collapsed_sections": [],
      "toc_visible": true
    },
    "kernelspec": {
      "name": "python3",
      "display_name": "Python 3"
    }
  },
  "cells": [
    {
      "cell_type": "code",
      "metadata": {
        "colab": {
          "base_uri": "https://localhost:8080/"
        },
        "id": "nvoafeum2lRD",
        "outputId": "b792e0ab-b1b0-40bd-cc56-5949dc697b0a"
      },
      "source": [
        "pip install category_encoders"
      ],
      "execution_count": null,
      "outputs": [
        {
          "output_type": "stream",
          "text": [
            "Requirement already satisfied: category_encoders in /usr/local/lib/python3.6/dist-packages (2.2.2)\n",
            "Requirement already satisfied: scikit-learn>=0.20.0 in /usr/local/lib/python3.6/dist-packages (from category_encoders) (0.22.2.post1)\n",
            "Requirement already satisfied: pandas>=0.21.1 in /usr/local/lib/python3.6/dist-packages (from category_encoders) (1.1.5)\n",
            "Requirement already satisfied: patsy>=0.5.1 in /usr/local/lib/python3.6/dist-packages (from category_encoders) (0.5.1)\n",
            "Requirement already satisfied: numpy>=1.14.0 in /usr/local/lib/python3.6/dist-packages (from category_encoders) (1.19.4)\n",
            "Requirement already satisfied: statsmodels>=0.9.0 in /usr/local/lib/python3.6/dist-packages (from category_encoders) (0.10.2)\n",
            "Requirement already satisfied: scipy>=1.0.0 in /usr/local/lib/python3.6/dist-packages (from category_encoders) (1.4.1)\n",
            "Requirement already satisfied: joblib>=0.11 in /usr/local/lib/python3.6/dist-packages (from scikit-learn>=0.20.0->category_encoders) (1.0.0)\n",
            "Requirement already satisfied: pytz>=2017.2 in /usr/local/lib/python3.6/dist-packages (from pandas>=0.21.1->category_encoders) (2018.9)\n",
            "Requirement already satisfied: python-dateutil>=2.7.3 in /usr/local/lib/python3.6/dist-packages (from pandas>=0.21.1->category_encoders) (2.8.1)\n",
            "Requirement already satisfied: six in /usr/local/lib/python3.6/dist-packages (from patsy>=0.5.1->category_encoders) (1.15.0)\n"
          ],
          "name": "stdout"
        }
      ]
    },
    {
      "cell_type": "code",
      "metadata": {
        "id": "9cnxwyAloIzE"
      },
      "source": [
        "import pandas as pd\n",
        "import numpy as np\n",
        "import category_encoders as ce\n",
        "import matplotlib.pyplot as plt\n",
        "import tensorflow as tf\n",
        "from sklearn.linear_model import LogisticRegression\n",
        "from sklearn.model_selection import train_test_split\n",
        "from sklearn.metrics import accuracy_score\n",
        "from sklearn.preprocessing import StandardScaler"
      ],
      "execution_count": null,
      "outputs": []
    },
    {
      "cell_type": "code",
      "metadata": {
        "id": "kaVDFcPrap5j",
        "colab": {
          "base_uri": "https://localhost:8080/"
        },
        "outputId": "49bdd567-179a-4120-9cd0-f1d12ce060e9"
      },
      "source": [
        "from google.colab import drive\n",
        "drive.mount('/content/drive',force_remount=True)"
      ],
      "execution_count": null,
      "outputs": [
        {
          "output_type": "stream",
          "text": [
            "Mounted at /content/drive\n"
          ],
          "name": "stdout"
        }
      ]
    },
    {
      "cell_type": "code",
      "metadata": {
        "id": "ImLTz44ZVnXM"
      },
      "source": [
        ""
      ],
      "execution_count": null,
      "outputs": []
    },
    {
      "cell_type": "code",
      "metadata": {
        "id": "vidf62W3vCRs"
      },
      "source": [
        "data = pd.read_csv('./drive/MyDrive/dataset.csv')"
      ],
      "execution_count": null,
      "outputs": []
    },
    {
      "cell_type": "code",
      "metadata": {
        "id": "BA3ljKI-vJZv"
      },
      "source": [
        "# encoder1 = ce.HashingEncoder(cols='saddr',n_components=5)\n",
        "# data = encoder1.fit_transform(data)\n",
        "# encoder2 = ce.HashingEncoder(cols='daddr',n_components=5)\n",
        "# data = encoder2.fit_transform(data)"
      ],
      "execution_count": null,
      "outputs": []
    },
    {
      "cell_type": "code",
      "metadata": {
        "id": "emLjPgXJmqPQ",
        "colab": {
          "base_uri": "https://localhost:8080/"
        },
        "outputId": "14f9237f-03f9-4ac8-b02f-8d7253cdbbb3"
      },
      "source": [
        "len(data)"
      ],
      "execution_count": null,
      "outputs": [
        {
          "output_type": "execute_result",
          "data": {
            "text/plain": [
              "733705"
            ]
          },
          "metadata": {
            "tags": []
          },
          "execution_count": 31
        }
      ]
    },
    {
      "cell_type": "code",
      "metadata": {
        "id": "DakQqClZlNk9",
        "colab": {
          "base_uri": "https://localhost:8080/"
        },
        "outputId": "d0abae26-555d-4748-9eaa-82206b60e5b3"
      },
      "source": [
        "data.dtypes"
      ],
      "execution_count": null,
      "outputs": [
        {
          "output_type": "execute_result",
          "data": {
            "text/plain": [
              "pkSeqID                int64\n",
              "proto                 object\n",
              "saddr                 object\n",
              "sport                 object\n",
              "daddr                 object\n",
              "dport                 object\n",
              "seq                    int64\n",
              "stddev               float64\n",
              "N_IN_Conn_P_SrcIP      int64\n",
              "min                  float64\n",
              "state_number           int64\n",
              "mean                 float64\n",
              "N_IN_Conn_P_DstIP      int64\n",
              "drate                float64\n",
              "srate                float64\n",
              "max                  float64\n",
              "attack                 int64\n",
              "category              object\n",
              "subcategory           object\n",
              "dtype: object"
            ]
          },
          "metadata": {
            "tags": []
          },
          "execution_count": 32
        }
      ]
    },
    {
      "cell_type": "code",
      "metadata": {
        "id": "vhajwfGJ7IB3"
      },
      "source": [
        "df = data.drop(['pkSeqID','subcategory','attack','dport','sport'],axis=1)"
      ],
      "execution_count": null,
      "outputs": []
    },
    {
      "cell_type": "code",
      "metadata": {
        "id": "4ZuRkSFokMUw",
        "colab": {
          "base_uri": "https://localhost:8080/"
        },
        "outputId": "60b597d1-6765-4e97-bde5-5efe7982520b"
      },
      "source": [
        "#encoder1 = ce.HashingEncoder(cols='saddr',n_components=6)\n",
        "\n",
        "encoder1 = ce.BinaryEncoder(cols=['saddr'],return_df=True)\n",
        "df = encoder1.fit_transform(df)"
      ],
      "execution_count": null,
      "outputs": [
        {
          "output_type": "stream",
          "text": [
            "/usr/local/lib/python3.6/dist-packages/category_encoders/utils.py:21: FutureWarning: is_categorical is deprecated and will be removed in a future version.  Use is_categorical_dtype instead\n",
            "  elif pd.api.types.is_categorical(cols):\n"
          ],
          "name": "stderr"
        }
      ]
    },
    {
      "cell_type": "code",
      "metadata": {
        "id": "QJs7QP0aM6GY",
        "colab": {
          "base_uri": "https://localhost:8080/"
        },
        "outputId": "0d33dbbf-c9ba-4b8b-d2f3-78f532038633"
      },
      "source": [
        "encoder2 = ce.BinaryEncoder(cols=['daddr'],return_df=True)\n",
        "df = encoder2.fit_transform(df)"
      ],
      "execution_count": null,
      "outputs": [
        {
          "output_type": "stream",
          "text": [
            "/usr/local/lib/python3.6/dist-packages/category_encoders/utils.py:21: FutureWarning: is_categorical is deprecated and will be removed in a future version.  Use is_categorical_dtype instead\n",
            "  elif pd.api.types.is_categorical(cols):\n"
          ],
          "name": "stderr"
        }
      ]
    },
    {
      "cell_type": "code",
      "metadata": {
        "id": "5k53msBiZz1D"
      },
      "source": [
        "proto_encoded = pd.get_dummies(data=df['proto'],drop_first=True)"
      ],
      "execution_count": null,
      "outputs": []
    },
    {
      "cell_type": "code",
      "metadata": {
        "id": "oz1JS9-BmAZr"
      },
      "source": [
        "df = pd.concat([df,proto_encoded],axis=1)\n",
        "df.drop('proto',axis=1,inplace=True)"
      ],
      "execution_count": null,
      "outputs": []
    },
    {
      "cell_type": "code",
      "metadata": {
        "id": "J4WkeMPnmkP_",
        "colab": {
          "base_uri": "https://localhost:8080/"
        },
        "outputId": "1c6d3809-fe99-4768-9b60-e7c144e67c18"
      },
      "source": [
        "df.dtypes"
      ],
      "execution_count": null,
      "outputs": [
        {
          "output_type": "execute_result",
          "data": {
            "text/plain": [
              "saddr_0                int64\n",
              "saddr_1                int64\n",
              "saddr_2                int64\n",
              "saddr_3                int64\n",
              "saddr_4                int64\n",
              "daddr_0                int64\n",
              "daddr_1                int64\n",
              "daddr_2                int64\n",
              "daddr_3                int64\n",
              "daddr_4                int64\n",
              "daddr_5                int64\n",
              "daddr_6                int64\n",
              "seq                    int64\n",
              "stddev               float64\n",
              "N_IN_Conn_P_SrcIP      int64\n",
              "min                  float64\n",
              "state_number           int64\n",
              "mean                 float64\n",
              "N_IN_Conn_P_DstIP      int64\n",
              "drate                float64\n",
              "srate                float64\n",
              "max                  float64\n",
              "category              object\n",
              "icmp                   uint8\n",
              "ipv6-icmp              uint8\n",
              "tcp                    uint8\n",
              "udp                    uint8\n",
              "dtype: object"
            ]
          },
          "metadata": {
            "tags": []
          },
          "execution_count": 38
        }
      ]
    },
    {
      "cell_type": "code",
      "metadata": {
        "id": "iHOE_6WKrKBB"
      },
      "source": [
        "scaler = StandardScaler()\n",
        "X = df.drop('category',axis=1)\n",
        "y = df['category']\n",
        "X = scaler.fit_transform(X)"
      ],
      "execution_count": null,
      "outputs": []
    },
    {
      "cell_type": "code",
      "metadata": {
        "id": "po_gPc-9m-TW"
      },
      "source": [
        "\n",
        "X_train,X_test,y_train,y_test = train_test_split(X,y,train_size=0.8,random_state=109)"
      ],
      "execution_count": null,
      "outputs": []
    },
    {
      "cell_type": "code",
      "metadata": {
        "id": "K0e7AXYw5gg8",
        "colab": {
          "base_uri": "https://localhost:8080/"
        },
        "outputId": "88617584-905f-402c-8670-30d21433be17"
      },
      "source": [
        "clf = LogisticRegression(random_state=0,multi_class='multinomial').fit(X_train, y_train)"
      ],
      "execution_count": null,
      "outputs": [
        {
          "output_type": "stream",
          "text": [
            "/usr/local/lib/python3.6/dist-packages/sklearn/linear_model/_logistic.py:940: ConvergenceWarning: lbfgs failed to converge (status=1):\n",
            "STOP: TOTAL NO. of ITERATIONS REACHED LIMIT.\n",
            "\n",
            "Increase the number of iterations (max_iter) or scale the data as shown in:\n",
            "    https://scikit-learn.org/stable/modules/preprocessing.html\n",
            "Please also refer to the documentation for alternative solver options:\n",
            "    https://scikit-learn.org/stable/modules/linear_model.html#logistic-regression\n",
            "  extra_warning_msg=_LOGISTIC_SOLVER_CONVERGENCE_MSG)\n"
          ],
          "name": "stderr"
        }
      ]
    },
    {
      "cell_type": "code",
      "metadata": {
        "id": "RKkuhFhrp5-i",
        "colab": {
          "base_uri": "https://localhost:8080/"
        },
        "outputId": "871cb684-b1a4-42e3-9228-3270749f75ed"
      },
      "source": [
        "predictions = clf.predict(X_test)\n",
        "print(accuracy_score(y_test,predictions))"
      ],
      "execution_count": null,
      "outputs": [
        {
          "output_type": "stream",
          "text": [
            "0.9853347053652354\n"
          ],
          "name": "stdout"
        }
      ]
    },
    {
      "cell_type": "code",
      "metadata": {
        "id": "srQ_8zFGqZAn"
      },
      "source": [
        "import keras\n",
        "from keras.models import Sequential\n",
        "from keras.layers import Dense"
      ],
      "execution_count": null,
      "outputs": []
    },
    {
      "cell_type": "code",
      "metadata": {
        "id": "_1hrC_vxxnb3"
      },
      "source": [
        "from sklearn.preprocessing import OneHotEncoder\n",
        "ohe = OneHotEncoder()\n",
        "y = df['category'].values\n",
        "y = ohe.fit_transform(y.reshape(-1,1)).toarray()\n",
        "X_train,X_test,y_train,y_test = train_test_split(X,y,train_size=0.8,random_state=109)"
      ],
      "execution_count": null,
      "outputs": []
    },
    {
      "cell_type": "code",
      "metadata": {
        "id": "EQ7XkM1Ova7h"
      },
      "source": [
        "model = Sequential()\n",
        "model.add(Dense(16,input_dim=26,activation='relu'))\n",
        "model.add(Dense(12,activation='relu'))\n",
        "model.add(Dense(5,activation='softmax'))"
      ],
      "execution_count": null,
      "outputs": []
    },
    {
      "cell_type": "code",
      "metadata": {
        "id": "mAnSjH_4xGxG"
      },
      "source": [
        "model.compile(loss='categorical_crossentropy', optimizer='adam', metrics=['accuracy'])"
      ],
      "execution_count": null,
      "outputs": []
    },
    {
      "cell_type": "code",
      "metadata": {
        "id": "kWOHwf-KxK5e",
        "colab": {
          "base_uri": "https://localhost:8080/"
        },
        "outputId": "2afd941f-4825-46f6-83b4-5374647962ec"
      },
      "source": [
        "history = model.fit(X_train, y_train, epochs=100, batch_size=64)"
      ],
      "execution_count": null,
      "outputs": [
        {
          "output_type": "stream",
          "text": [
            "Epoch 1/100\n",
            "9172/9172 [==============================] - 11s 1ms/step - loss: 0.1766 - accuracy: 0.9397\n",
            "Epoch 2/100\n",
            "9172/9172 [==============================] - 10s 1ms/step - loss: 0.0262 - accuracy: 0.9903\n",
            "Epoch 3/100\n",
            "9172/9172 [==============================] - 10s 1ms/step - loss: 0.0210 - accuracy: 0.9924\n",
            "Epoch 4/100\n",
            "9172/9172 [==============================] - 10s 1ms/step - loss: 0.0181 - accuracy: 0.9933\n",
            "Epoch 5/100\n",
            "9172/9172 [==============================] - 10s 1ms/step - loss: 0.0160 - accuracy: 0.9941\n",
            "Epoch 6/100\n",
            "9172/9172 [==============================] - 10s 1ms/step - loss: 0.0148 - accuracy: 0.9947\n",
            "Epoch 7/100\n",
            "9172/9172 [==============================] - 10s 1ms/step - loss: 0.0135 - accuracy: 0.9951\n",
            "Epoch 8/100\n",
            "9172/9172 [==============================] - 10s 1ms/step - loss: 0.0132 - accuracy: 0.9952\n",
            "Epoch 9/100\n",
            "9172/9172 [==============================] - 10s 1ms/step - loss: 0.0127 - accuracy: 0.9953\n",
            "Epoch 10/100\n",
            "9172/9172 [==============================] - 10s 1ms/step - loss: 0.0118 - accuracy: 0.9957\n",
            "Epoch 11/100\n",
            "9172/9172 [==============================] - 10s 1ms/step - loss: 0.0122 - accuracy: 0.9955\n",
            "Epoch 12/100\n",
            "9172/9172 [==============================] - 10s 1ms/step - loss: 0.0116 - accuracy: 0.9956\n",
            "Epoch 13/100\n",
            "9172/9172 [==============================] - 10s 1ms/step - loss: 0.0114 - accuracy: 0.9958\n",
            "Epoch 14/100\n",
            "9172/9172 [==============================] - 11s 1ms/step - loss: 0.0110 - accuracy: 0.9959\n",
            "Epoch 15/100\n",
            "9172/9172 [==============================] - 12s 1ms/step - loss: 0.0108 - accuracy: 0.9959\n",
            "Epoch 16/100\n",
            "9172/9172 [==============================] - 11s 1ms/step - loss: 0.0103 - accuracy: 0.9962\n",
            "Epoch 17/100\n",
            "9172/9172 [==============================] - 10s 1ms/step - loss: 0.0103 - accuracy: 0.9963\n",
            "Epoch 18/100\n",
            "9172/9172 [==============================] - 10s 1ms/step - loss: 0.0100 - accuracy: 0.9962\n",
            "Epoch 19/100\n",
            "9172/9172 [==============================] - 10s 1ms/step - loss: 0.0104 - accuracy: 0.9961\n",
            "Epoch 20/100\n",
            "9172/9172 [==============================] - 10s 1ms/step - loss: 0.0099 - accuracy: 0.9964\n",
            "Epoch 21/100\n",
            "9172/9172 [==============================] - 10s 1ms/step - loss: 0.0099 - accuracy: 0.9963\n",
            "Epoch 22/100\n",
            "9172/9172 [==============================] - 10s 1ms/step - loss: 0.0094 - accuracy: 0.9965\n",
            "Epoch 23/100\n",
            "9172/9172 [==============================] - 10s 1ms/step - loss: 0.0097 - accuracy: 0.9963\n",
            "Epoch 24/100\n",
            "9172/9172 [==============================] - 10s 1ms/step - loss: 0.0101 - accuracy: 0.9962\n",
            "Epoch 25/100\n",
            "9172/9172 [==============================] - 10s 1ms/step - loss: 0.0094 - accuracy: 0.9966\n",
            "Epoch 26/100\n",
            "9172/9172 [==============================] - 10s 1ms/step - loss: 0.0094 - accuracy: 0.9965\n",
            "Epoch 27/100\n",
            "9172/9172 [==============================] - 10s 1ms/step - loss: 0.0096 - accuracy: 0.9965\n",
            "Epoch 28/100\n",
            "9172/9172 [==============================] - 10s 1ms/step - loss: 0.0085 - accuracy: 0.9967\n",
            "Epoch 29/100\n",
            "9172/9172 [==============================] - 10s 1ms/step - loss: 0.0088 - accuracy: 0.9968\n",
            "Epoch 30/100\n",
            "9172/9172 [==============================] - 10s 1ms/step - loss: 0.0083 - accuracy: 0.9968\n",
            "Epoch 31/100\n",
            "9172/9172 [==============================] - 10s 1ms/step - loss: 0.0095 - accuracy: 0.9966\n",
            "Epoch 32/100\n",
            "9172/9172 [==============================] - 10s 1ms/step - loss: 0.0085 - accuracy: 0.9967\n",
            "Epoch 33/100\n",
            "9172/9172 [==============================] - 10s 1ms/step - loss: 0.0087 - accuracy: 0.9967\n",
            "Epoch 34/100\n",
            "9172/9172 [==============================] - 10s 1ms/step - loss: 0.0087 - accuracy: 0.9967\n",
            "Epoch 35/100\n",
            "9172/9172 [==============================] - 10s 1ms/step - loss: 0.0107 - accuracy: 0.9968\n",
            "Epoch 36/100\n",
            "9172/9172 [==============================] - 10s 1ms/step - loss: 0.0086 - accuracy: 0.9967\n",
            "Epoch 37/100\n",
            "9172/9172 [==============================] - 10s 1ms/step - loss: 0.0084 - accuracy: 0.9970\n",
            "Epoch 38/100\n",
            "9172/9172 [==============================] - 10s 1ms/step - loss: 0.0083 - accuracy: 0.9969\n",
            "Epoch 39/100\n",
            "9172/9172 [==============================] - 10s 1ms/step - loss: 0.0121 - accuracy: 0.9968\n",
            "Epoch 40/100\n",
            "9172/9172 [==============================] - 10s 1ms/step - loss: 0.0087 - accuracy: 0.9969\n",
            "Epoch 41/100\n",
            "9172/9172 [==============================] - 10s 1ms/step - loss: 0.0081 - accuracy: 0.9971\n",
            "Epoch 42/100\n",
            "9172/9172 [==============================] - 10s 1ms/step - loss: 0.0082 - accuracy: 0.9969\n",
            "Epoch 43/100\n",
            "9172/9172 [==============================] - 10s 1ms/step - loss: 0.0090 - accuracy: 0.9968\n",
            "Epoch 44/100\n",
            "9172/9172 [==============================] - 10s 1ms/step - loss: 0.0081 - accuracy: 0.9970\n",
            "Epoch 45/100\n",
            "9172/9172 [==============================] - 11s 1ms/step - loss: 0.0082 - accuracy: 0.9970\n",
            "Epoch 46/100\n",
            "9172/9172 [==============================] - 11s 1ms/step - loss: 0.0081 - accuracy: 0.9970\n",
            "Epoch 47/100\n",
            "9172/9172 [==============================] - 11s 1ms/step - loss: 0.0120 - accuracy: 0.9970\n",
            "Epoch 48/100\n",
            "9172/9172 [==============================] - 10s 1ms/step - loss: 0.0080 - accuracy: 0.9970\n",
            "Epoch 49/100\n",
            "9172/9172 [==============================] - 10s 1ms/step - loss: 0.0079 - accuracy: 0.9971\n",
            "Epoch 50/100\n",
            "9172/9172 [==============================] - 10s 1ms/step - loss: 0.0080 - accuracy: 0.9969\n",
            "Epoch 51/100\n",
            "9172/9172 [==============================] - 10s 1ms/step - loss: 0.0083 - accuracy: 0.9970\n",
            "Epoch 52/100\n",
            "9172/9172 [==============================] - 10s 1ms/step - loss: 0.0130 - accuracy: 0.9971\n",
            "Epoch 53/100\n",
            "9172/9172 [==============================] - 10s 1ms/step - loss: 0.0079 - accuracy: 0.9971\n",
            "Epoch 54/100\n",
            "9172/9172 [==============================] - 10s 1ms/step - loss: 0.0078 - accuracy: 0.9970\n",
            "Epoch 55/100\n",
            "9172/9172 [==============================] - 10s 1ms/step - loss: 0.0077 - accuracy: 0.9970\n",
            "Epoch 56/100\n",
            "9172/9172 [==============================] - 10s 1ms/step - loss: 0.0080 - accuracy: 0.9969\n",
            "Epoch 57/100\n",
            "9172/9172 [==============================] - 10s 1ms/step - loss: 0.0088 - accuracy: 0.9969\n",
            "Epoch 58/100\n",
            "9172/9172 [==============================] - 10s 1ms/step - loss: 0.0075 - accuracy: 0.9971\n",
            "Epoch 59/100\n",
            "9172/9172 [==============================] - 10s 1ms/step - loss: 0.0073 - accuracy: 0.9973\n",
            "Epoch 60/100\n",
            "9172/9172 [==============================] - 10s 1ms/step - loss: 0.0074 - accuracy: 0.9971\n",
            "Epoch 61/100\n",
            "9172/9172 [==============================] - 10s 1ms/step - loss: 0.0071 - accuracy: 0.9972\n",
            "Epoch 62/100\n",
            "9172/9172 [==============================] - 10s 1ms/step - loss: 0.0073 - accuracy: 0.9973\n",
            "Epoch 63/100\n",
            "9172/9172 [==============================] - 10s 1ms/step - loss: 0.0090 - accuracy: 0.9972\n",
            "Epoch 64/100\n",
            "9172/9172 [==============================] - 10s 1ms/step - loss: 0.0075 - accuracy: 0.9971\n",
            "Epoch 65/100\n",
            "9172/9172 [==============================] - 10s 1ms/step - loss: 0.0072 - accuracy: 0.9973\n",
            "Epoch 66/100\n",
            "9172/9172 [==============================] - 10s 1ms/step - loss: 0.0069 - accuracy: 0.9973\n",
            "Epoch 67/100\n",
            "9172/9172 [==============================] - 10s 1ms/step - loss: 0.0069 - accuracy: 0.9974\n",
            "Epoch 68/100\n",
            "9172/9172 [==============================] - 10s 1ms/step - loss: 0.0074 - accuracy: 0.9973\n",
            "Epoch 69/100\n",
            "9172/9172 [==============================] - 10s 1ms/step - loss: 0.0069 - accuracy: 0.9973\n",
            "Epoch 70/100\n",
            "9172/9172 [==============================] - 10s 1ms/step - loss: 0.0071 - accuracy: 0.9973\n",
            "Epoch 71/100\n",
            "9172/9172 [==============================] - 10s 1ms/step - loss: 0.0068 - accuracy: 0.9974\n",
            "Epoch 72/100\n",
            "9172/9172 [==============================] - 10s 1ms/step - loss: 0.0066 - accuracy: 0.9973\n",
            "Epoch 73/100\n",
            "9172/9172 [==============================] - 10s 1ms/step - loss: 0.0071 - accuracy: 0.9973\n",
            "Epoch 74/100\n",
            "9172/9172 [==============================] - 10s 1ms/step - loss: 0.0215 - accuracy: 0.9975\n",
            "Epoch 75/100\n",
            "9172/9172 [==============================] - 11s 1ms/step - loss: 0.0067 - accuracy: 0.9974\n",
            "Epoch 76/100\n",
            "9172/9172 [==============================] - 10s 1ms/step - loss: 0.0082 - accuracy: 0.9974\n",
            "Epoch 77/100\n",
            "9172/9172 [==============================] - 11s 1ms/step - loss: 0.0068 - accuracy: 0.9975\n",
            "Epoch 78/100\n",
            "9172/9172 [==============================] - 11s 1ms/step - loss: 0.0069 - accuracy: 0.9974\n",
            "Epoch 79/100\n",
            "9172/9172 [==============================] - 10s 1ms/step - loss: 0.0067 - accuracy: 0.9974\n",
            "Epoch 80/100\n",
            "9172/9172 [==============================] - 10s 1ms/step - loss: 0.0067 - accuracy: 0.9974\n",
            "Epoch 81/100\n",
            "9172/9172 [==============================] - 10s 1ms/step - loss: 0.0072 - accuracy: 0.9973\n",
            "Epoch 82/100\n",
            "9172/9172 [==============================] - 10s 1ms/step - loss: 0.0064 - accuracy: 0.9974\n",
            "Epoch 83/100\n",
            "9172/9172 [==============================] - 10s 1ms/step - loss: 0.0070 - accuracy: 0.9974\n",
            "Epoch 84/100\n",
            "9172/9172 [==============================] - 10s 1ms/step - loss: 0.0063 - accuracy: 0.9977\n",
            "Epoch 85/100\n",
            "9172/9172 [==============================] - 10s 1ms/step - loss: 0.0066 - accuracy: 0.9975\n",
            "Epoch 86/100\n",
            "9172/9172 [==============================] - 10s 1ms/step - loss: 0.0064 - accuracy: 0.9976\n",
            "Epoch 87/100\n",
            "9172/9172 [==============================] - 10s 1ms/step - loss: 0.0065 - accuracy: 0.9976\n",
            "Epoch 88/100\n",
            "9172/9172 [==============================] - 10s 1ms/step - loss: 0.0066 - accuracy: 0.9975\n",
            "Epoch 89/100\n",
            "9172/9172 [==============================] - 10s 1ms/step - loss: 0.0067 - accuracy: 0.9975\n",
            "Epoch 90/100\n",
            "9172/9172 [==============================] - 10s 1ms/step - loss: 0.0063 - accuracy: 0.9976\n",
            "Epoch 91/100\n",
            "9172/9172 [==============================] - 10s 1ms/step - loss: 0.0060 - accuracy: 0.9976\n",
            "Epoch 92/100\n",
            "9172/9172 [==============================] - 10s 1ms/step - loss: 0.0061 - accuracy: 0.9976\n",
            "Epoch 93/100\n",
            "9172/9172 [==============================] - 10s 1ms/step - loss: 0.0065 - accuracy: 0.9975\n",
            "Epoch 94/100\n",
            "9172/9172 [==============================] - 10s 1ms/step - loss: 0.0067 - accuracy: 0.9976\n",
            "Epoch 95/100\n",
            "9172/9172 [==============================] - 10s 1ms/step - loss: 0.0062 - accuracy: 0.9977\n",
            "Epoch 96/100\n",
            "9172/9172 [==============================] - 10s 1ms/step - loss: 0.0062 - accuracy: 0.9977\n",
            "Epoch 97/100\n",
            "9172/9172 [==============================] - 10s 1ms/step - loss: 0.0062 - accuracy: 0.9977\n",
            "Epoch 98/100\n",
            "9172/9172 [==============================] - 10s 1ms/step - loss: 0.0061 - accuracy: 0.9977\n",
            "Epoch 99/100\n",
            "9172/9172 [==============================] - 10s 1ms/step - loss: 0.0164 - accuracy: 0.9975\n",
            "Epoch 100/100\n",
            "9172/9172 [==============================] - 10s 1ms/step - loss: 0.0063 - accuracy: 0.9977\n"
          ],
          "name": "stdout"
        }
      ]
    },
    {
      "cell_type": "code",
      "metadata": {
        "id": "7bN4_IdO2vhb"
      },
      "source": [
        "y_pred = model.predict(X_test)"
      ],
      "execution_count": null,
      "outputs": []
    },
    {
      "cell_type": "code",
      "metadata": {
        "id": "oydakAiP27BK"
      },
      "source": [
        "pred = list()\n",
        "for i in range(len(y_pred)):\n",
        "    pred.append(np.argmax(y_pred[i]))\n",
        "test = list()\n",
        "for i in range(len(y_test)):\n",
        "    test.append(np.argmax(y_test[i]))"
      ],
      "execution_count": null,
      "outputs": []
    },
    {
      "cell_type": "code",
      "metadata": {
        "id": "4Ob2olM03J82",
        "colab": {
          "base_uri": "https://localhost:8080/"
        },
        "outputId": "9e770208-3e79-487e-ee92-02a2bedf68cd"
      },
      "source": [
        "from sklearn.metrics import accuracy_score\n",
        "a = accuracy_score(pred,test)\n",
        "print('Accuracy is:', a*100)"
      ],
      "execution_count": null,
      "outputs": [
        {
          "output_type": "stream",
          "text": [
            "Accuracy is: 99.40371130086343\n"
          ],
          "name": "stdout"
        }
      ]
    }
  ]
}