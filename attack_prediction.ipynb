{
  "nbformat": 4,
  "nbformat_minor": 0,
  "metadata": {
    "kernelspec": {
      "language": "python",
      "display_name": "Python 3",
      "name": "python3"
    },
    "language_info": {
      "name": "python",
      "version": "3.7.10",
      "mimetype": "text/x-python",
      "codemirror_mode": {
        "name": "ipython",
        "version": 3
      },
      "pygments_lexer": "ipython3",
      "nbconvert_exporter": "python",
      "file_extension": ".py"
    },
    "colab": {
      "name": "attack-prediction.ipynb",
      "provenance": []
    },
    "accelerator": "TPU"
  },
  "cells": [
    {
      "cell_type": "code",
      "metadata": {
        "colab": {
          "base_uri": "https://localhost:8080/"
        },
        "id": "VkMiGkaiSB7u",
        "outputId": "38dd0179-3f63-46f2-fa74-26958de5caca"
      },
      "source": [
        "from google.colab import drive\n",
        "drive.mount('/content/drive')"
      ],
      "execution_count": null,
      "outputs": [
        {
          "output_type": "stream",
          "text": [
            "Drive already mounted at /content/drive; to attempt to forcibly remount, call drive.mount(\"/content/drive\", force_remount=True).\n"
          ],
          "name": "stdout"
        }
      ]
    },
    {
      "cell_type": "code",
      "metadata": {
        "execution": {
          "iopub.status.busy": "2021-07-11T17:49:42.088999Z",
          "iopub.execute_input": "2021-07-11T17:49:42.089566Z",
          "iopub.status.idle": "2021-07-11T17:49:42.110665Z",
          "shell.execute_reply.started": "2021-07-11T17:49:42.089460Z",
          "shell.execute_reply": "2021-07-11T17:49:42.109879Z"
        },
        "trusted": true,
        "id": "4Ggr1Q1RQwqd"
      },
      "source": [
        "# This Python 3 environment comes with many helpful analytics libraries installed\n",
        "# It is defined by the kaggle/python Docker image: https://github.com/kaggle/docker-python\n",
        "# For example, here's several helpful packages to load\n",
        "\n",
        "import numpy as np # linear algebra\n",
        "import pandas as pd # data processing, CSV file I/O (e.g. pd.read_csv)\n"
      ],
      "execution_count": null,
      "outputs": []
    },
    {
      "cell_type": "code",
      "metadata": {
        "execution": {
          "iopub.status.busy": "2021-07-11T17:50:14.191238Z",
          "iopub.execute_input": "2021-07-11T17:50:14.191765Z",
          "iopub.status.idle": "2021-07-11T17:50:17.420316Z",
          "shell.execute_reply.started": "2021-07-11T17:50:14.191720Z",
          "shell.execute_reply": "2021-07-11T17:50:17.419319Z"
        },
        "trusted": true,
        "id": "BNly_yHpQwql"
      },
      "source": [
        "df=pd.read_csv(r\"/content/drive/MyDrive/iot_botnet_dataset/features_having_most_influence_on_Botnet_IoT.csv\")"
      ],
      "execution_count": null,
      "outputs": []
    },
    {
      "cell_type": "code",
      "metadata": {
        "execution": {
          "iopub.status.busy": "2021-07-11T17:50:17.421730Z",
          "iopub.execute_input": "2021-07-11T17:50:17.422040Z",
          "iopub.status.idle": "2021-07-11T17:50:29.286641Z",
          "shell.execute_reply.started": "2021-07-11T17:50:17.422009Z",
          "shell.execute_reply": "2021-07-11T17:50:29.285625Z"
        },
        "trusted": true,
        "id": "otvoTmDxQwqm"
      },
      "source": [
        "df_train=pd.read_csv(r\"/content/drive/MyDrive/iot_botnet_dataset/UNSW_2018_IoT_Botnet_Final_10_best_Training.csv\")"
      ],
      "execution_count": null,
      "outputs": []
    },
    {
      "cell_type": "code",
      "metadata": {
        "id": "LFRvnDq637nU"
      },
      "source": [
        ""
      ],
      "execution_count": null,
      "outputs": []
    },
    {
      "cell_type": "code",
      "metadata": {
        "execution": {
          "iopub.status.busy": "2021-07-11T17:50:29.288203Z",
          "iopub.execute_input": "2021-07-11T17:50:29.288521Z",
          "iopub.status.idle": "2021-07-11T17:50:30.116687Z",
          "shell.execute_reply.started": "2021-07-11T17:50:29.288484Z",
          "shell.execute_reply": "2021-07-11T17:50:30.115786Z"
        },
        "trusted": true,
        "id": "SUCU70lfQwqm"
      },
      "source": [
        "%matplotlib inline\n",
        "import matplotlib.pyplot as plt\n",
        "import seaborn as sns"
      ],
      "execution_count": null,
      "outputs": []
    },
    {
      "cell_type": "code",
      "metadata": {
        "execution": {
          "iopub.status.busy": "2021-07-11T17:50:30.255026Z",
          "iopub.execute_input": "2021-07-11T17:50:30.255398Z",
          "iopub.status.idle": "2021-07-11T17:50:30.260337Z",
          "shell.execute_reply.started": "2021-07-11T17:50:30.255351Z",
          "shell.execute_reply": "2021-07-11T17:50:30.259561Z"
        },
        "trusted": true,
        "id": "WV_nc8RfQwqq"
      },
      "source": [
        "## Spliting the dataset into categorical and numerical features\n",
        "def getFeatures(df):\n",
        "    num_features = df.select_dtypes(include=[np.number])\n",
        "    cat_features = df.select_dtypes(include=[np.object])\n",
        "    return num_features,cat_features"
      ],
      "execution_count": null,
      "outputs": []
    },
    {
      "cell_type": "code",
      "metadata": {
        "execution": {
          "iopub.status.busy": "2021-07-11T17:50:31.265817Z",
          "iopub.execute_input": "2021-07-11T17:50:31.266299Z",
          "iopub.status.idle": "2021-07-11T17:50:31.558223Z",
          "shell.execute_reply.started": "2021-07-11T17:50:31.266253Z",
          "shell.execute_reply": "2021-07-11T17:50:31.557172Z"
        },
        "trusted": true,
        "id": "EKEMrk3WQwqr"
      },
      "source": [
        "train_num_features,train_cat_features = getFeatures(df_train)"
      ],
      "execution_count": null,
      "outputs": []
    },
    {
      "cell_type": "code",
      "metadata": {
        "execution": {
          "iopub.status.busy": "2021-07-11T17:50:31.559682Z",
          "iopub.execute_input": "2021-07-11T17:50:31.559988Z",
          "iopub.status.idle": "2021-07-11T17:50:31.641211Z",
          "shell.execute_reply.started": "2021-07-11T17:50:31.559957Z",
          "shell.execute_reply": "2021-07-11T17:50:31.640115Z"
        },
        "trusted": true,
        "id": "Dlu1cw1cQwqr"
      },
      "source": [
        "num_features,cat_features = getFeatures(df)\n"
      ],
      "execution_count": null,
      "outputs": []
    },
    {
      "cell_type": "code",
      "metadata": {
        "execution": {
          "iopub.status.busy": "2021-07-11T17:51:02.476483Z",
          "iopub.execute_input": "2021-07-11T17:51:02.476962Z",
          "iopub.status.idle": "2021-07-11T17:51:02.677437Z",
          "shell.execute_reply.started": "2021-07-11T17:51:02.476932Z",
          "shell.execute_reply": "2021-07-11T17:51:02.676523Z"
        },
        "trusted": true,
        "id": "P3eiyLGjQwq5"
      },
      "source": [
        "\n",
        "train_cat_features=train_cat_features.drop(['category','subcategory'],axis=1)"
      ],
      "execution_count": null,
      "outputs": []
    },
    {
      "cell_type": "code",
      "metadata": {
        "execution": {
          "iopub.status.busy": "2021-07-11T17:51:02.837685Z",
          "iopub.execute_input": "2021-07-11T17:51:02.838024Z",
          "iopub.status.idle": "2021-07-11T17:51:02.892266Z",
          "shell.execute_reply.started": "2021-07-11T17:51:02.837993Z",
          "shell.execute_reply": "2021-07-11T17:51:02.891237Z"
        },
        "trusted": true,
        "id": "hmyL5zvcQwq6"
      },
      "source": [
        "cat_features=cat_features.drop(['category','subcategory'],axis=1)"
      ],
      "execution_count": null,
      "outputs": []
    },
    {
      "cell_type": "code",
      "metadata": {
        "execution": {
          "iopub.status.busy": "2021-07-11T17:51:30.343631Z",
          "iopub.execute_input": "2021-07-11T17:51:30.343982Z",
          "iopub.status.idle": "2021-07-11T17:51:30.351846Z",
          "shell.execute_reply.started": "2021-07-11T17:51:30.343952Z",
          "shell.execute_reply": "2021-07-11T17:51:30.350716Z"
        },
        "trusted": true,
        "id": "QQl0IquEQwq8"
      },
      "source": [
        "#TARGET ENCODING (Mean encoding with multiclass target variable)\n",
        "# We do mean encoding wrt each class of the target variable after one - hot encoding the target variable\n",
        "#REFER TO https://towardsdatascience.com/target-encoding-for-multi-class-classification-c9a7bcb1a53\n",
        "def target_encode_multiclass(X,y): #X,y are pandas df and series\n",
        "    y=y.astype(str)   #convert to string to onehot encode\n",
        "    enc=ce.OneHotEncoder().fit(y)\n",
        "    y_onehot=enc.transform(y)\n",
        "    print(y_onehot)\n",
        "    class_names=y_onehot.columns  #names of onehot encoded columns\n",
        "    X_obj=X.select_dtypes('object') #separate categorical columns\n",
        "    X=X.select_dtypes(exclude='object') #X is empty because we dont have numerical features and we ar\n",
        "    for class_ in class_names:\n",
        "      \n",
        "        enc=ce.TargetEncoder()\n",
        "        enc.fit(X_obj,y_onehot[class_]) #convert all categorical \n",
        "        temp=enc.transform(X_obj)       #columns for class_\n",
        "        temp.columns=[str(x)+'_'+str(class_) for x in temp.columns]\n",
        "        X=pd.concat([X,temp],axis=1)    #add to original dataset\n",
        "      \n",
        "    return X"
      ],
      "execution_count": null,
      "outputs": []
    },
    {
      "cell_type": "code",
      "metadata": {
        "colab": {
          "base_uri": "https://localhost:8080/"
        },
        "id": "Nlls-DgcYDi3",
        "outputId": "d101d12e-eec0-4860-a540-87cb63b612c6"
      },
      "source": [
        "pip install category_encoders"
      ],
      "execution_count": null,
      "outputs": [
        {
          "output_type": "stream",
          "text": [
            "Requirement already satisfied: category_encoders in /usr/local/lib/python3.7/dist-packages (2.2.2)\n",
            "Requirement already satisfied: numpy>=1.14.0 in /usr/local/lib/python3.7/dist-packages (from category_encoders) (1.19.5)\n",
            "Requirement already satisfied: pandas>=0.21.1 in /usr/local/lib/python3.7/dist-packages (from category_encoders) (1.1.5)\n",
            "Requirement already satisfied: statsmodels>=0.9.0 in /usr/local/lib/python3.7/dist-packages (from category_encoders) (0.10.2)\n",
            "Requirement already satisfied: scikit-learn>=0.20.0 in /usr/local/lib/python3.7/dist-packages (from category_encoders) (0.22.2.post1)\n",
            "Requirement already satisfied: scipy>=1.0.0 in /usr/local/lib/python3.7/dist-packages (from category_encoders) (1.4.1)\n",
            "Requirement already satisfied: patsy>=0.5.1 in /usr/local/lib/python3.7/dist-packages (from category_encoders) (0.5.1)\n",
            "Requirement already satisfied: pytz>=2017.2 in /usr/local/lib/python3.7/dist-packages (from pandas>=0.21.1->category_encoders) (2018.9)\n",
            "Requirement already satisfied: python-dateutil>=2.7.3 in /usr/local/lib/python3.7/dist-packages (from pandas>=0.21.1->category_encoders) (2.8.1)\n",
            "Requirement already satisfied: six in /usr/local/lib/python3.7/dist-packages (from patsy>=0.5.1->category_encoders) (1.15.0)\n",
            "Requirement already satisfied: joblib>=0.11 in /usr/local/lib/python3.7/dist-packages (from scikit-learn>=0.20.0->category_encoders) (1.0.1)\n"
          ],
          "name": "stdout"
        }
      ]
    },
    {
      "cell_type": "code",
      "metadata": {
        "execution": {
          "iopub.status.busy": "2021-07-11T17:51:38.307706Z",
          "iopub.execute_input": "2021-07-11T17:51:38.308269Z",
          "iopub.status.idle": "2021-07-11T17:52:50.192782Z",
          "shell.execute_reply.started": "2021-07-11T17:51:38.308220Z",
          "shell.execute_reply": "2021-07-11T17:52:50.191786Z"
        },
        "trusted": true,
        "colab": {
          "base_uri": "https://localhost:8080/"
        },
        "id": "hFxluKeNQwq9",
        "outputId": "7eb566a4-b028-419a-b34d-13ed8012d0d9"
      },
      "source": [
        "import category_encoders as ce\n",
        "train_encoded_cat_features=target_encode_multiclass(train_cat_features,df_train[\"category\"])"
      ],
      "execution_count": null,
      "outputs": [
        {
          "output_type": "stream",
          "text": [
            "/usr/local/lib/python3.7/dist-packages/statsmodels/tools/_testing.py:19: FutureWarning: pandas.util.testing is deprecated. Use the functions in the public API at pandas.testing instead.\n",
            "  import pandas.util.testing as tm\n",
            "/usr/local/lib/python3.7/dist-packages/category_encoders/utils.py:21: FutureWarning: is_categorical is deprecated and will be removed in a future version.  Use is_categorical_dtype instead\n",
            "  elif pd.api.types.is_categorical(cols):\n"
          ],
          "name": "stderr"
        },
        {
          "output_type": "stream",
          "text": [
            "         category_1  category_2  category_3  category_4  category_5\n",
            "0                 1           0           0           0           0\n",
            "1                 1           0           0           0           0\n",
            "2                 1           0           0           0           0\n",
            "3                 0           1           0           0           0\n",
            "4                 1           0           0           0           0\n",
            "...             ...         ...         ...         ...         ...\n",
            "2934812           0           1           0           0           0\n",
            "2934813           1           0           0           0           0\n",
            "2934814           0           1           0           0           0\n",
            "2934815           0           1           0           0           0\n",
            "2934816           0           1           0           0           0\n",
            "\n",
            "[2934817 rows x 5 columns]\n"
          ],
          "name": "stdout"
        },
        {
          "output_type": "stream",
          "text": [
            "/usr/local/lib/python3.7/dist-packages/category_encoders/utils.py:21: FutureWarning: is_categorical is deprecated and will be removed in a future version.  Use is_categorical_dtype instead\n",
            "  elif pd.api.types.is_categorical(cols):\n",
            "/usr/local/lib/python3.7/dist-packages/category_encoders/utils.py:21: FutureWarning: is_categorical is deprecated and will be removed in a future version.  Use is_categorical_dtype instead\n",
            "  elif pd.api.types.is_categorical(cols):\n",
            "/usr/local/lib/python3.7/dist-packages/category_encoders/utils.py:21: FutureWarning: is_categorical is deprecated and will be removed in a future version.  Use is_categorical_dtype instead\n",
            "  elif pd.api.types.is_categorical(cols):\n",
            "/usr/local/lib/python3.7/dist-packages/category_encoders/utils.py:21: FutureWarning: is_categorical is deprecated and will be removed in a future version.  Use is_categorical_dtype instead\n",
            "  elif pd.api.types.is_categorical(cols):\n",
            "/usr/local/lib/python3.7/dist-packages/category_encoders/utils.py:21: FutureWarning: is_categorical is deprecated and will be removed in a future version.  Use is_categorical_dtype instead\n",
            "  elif pd.api.types.is_categorical(cols):\n"
          ],
          "name": "stderr"
        }
      ]
    },
    {
      "cell_type": "code",
      "metadata": {
        "execution": {
          "iopub.status.busy": "2021-07-11T17:52:51.203775Z",
          "iopub.execute_input": "2021-07-11T17:52:51.204060Z",
          "iopub.status.idle": "2021-07-11T17:53:07.458480Z",
          "shell.execute_reply.started": "2021-07-11T17:52:51.204032Z",
          "shell.execute_reply": "2021-07-11T17:53:07.457507Z"
        },
        "trusted": true,
        "colab": {
          "base_uri": "https://localhost:8080/",
          "height": 896
        },
        "id": "g0IpaAyjQwq-",
        "outputId": "570a2e3f-6988-49e1-e0b9-3b6a650883f4"
      },
      "source": [
        "#DOING THE ABOVE CATEGORY ENCODING FOR TEST DATASET\n",
        "test_encoded_cat_features=target_encode_multiclass(cat_features,df[\"category\"])\n",
        "test_encoded_cat_features"
      ],
      "execution_count": null,
      "outputs": [
        {
          "output_type": "stream",
          "text": [
            "/usr/local/lib/python3.7/dist-packages/category_encoders/utils.py:21: FutureWarning: is_categorical is deprecated and will be removed in a future version.  Use is_categorical_dtype instead\n",
            "  elif pd.api.types.is_categorical(cols):\n"
          ],
          "name": "stderr"
        },
        {
          "output_type": "stream",
          "text": [
            "        category_1  category_2  category_3  category_4  category_5\n",
            "0                1           0           0           0           0\n",
            "1                0           1           0           0           0\n",
            "2                0           1           0           0           0\n",
            "3                0           1           0           0           0\n",
            "4                1           0           0           0           0\n",
            "...            ...         ...         ...         ...         ...\n",
            "733700           1           0           0           0           0\n",
            "733701           0           1           0           0           0\n",
            "733702           0           1           0           0           0\n",
            "733703           1           0           0           0           0\n",
            "733704           0           1           0           0           0\n",
            "\n",
            "[733705 rows x 5 columns]\n"
          ],
          "name": "stdout"
        },
        {
          "output_type": "stream",
          "text": [
            "/usr/local/lib/python3.7/dist-packages/category_encoders/utils.py:21: FutureWarning: is_categorical is deprecated and will be removed in a future version.  Use is_categorical_dtype instead\n",
            "  elif pd.api.types.is_categorical(cols):\n",
            "/usr/local/lib/python3.7/dist-packages/category_encoders/utils.py:21: FutureWarning: is_categorical is deprecated and will be removed in a future version.  Use is_categorical_dtype instead\n",
            "  elif pd.api.types.is_categorical(cols):\n",
            "/usr/local/lib/python3.7/dist-packages/category_encoders/utils.py:21: FutureWarning: is_categorical is deprecated and will be removed in a future version.  Use is_categorical_dtype instead\n",
            "  elif pd.api.types.is_categorical(cols):\n",
            "/usr/local/lib/python3.7/dist-packages/category_encoders/utils.py:21: FutureWarning: is_categorical is deprecated and will be removed in a future version.  Use is_categorical_dtype instead\n",
            "  elif pd.api.types.is_categorical(cols):\n",
            "/usr/local/lib/python3.7/dist-packages/category_encoders/utils.py:21: FutureWarning: is_categorical is deprecated and will be removed in a future version.  Use is_categorical_dtype instead\n",
            "  elif pd.api.types.is_categorical(cols):\n"
          ],
          "name": "stderr"
        },
        {
          "output_type": "execute_result",
          "data": {
            "text/html": [
              "<div>\n",
              "<style scoped>\n",
              "    .dataframe tbody tr th:only-of-type {\n",
              "        vertical-align: middle;\n",
              "    }\n",
              "\n",
              "    .dataframe tbody tr th {\n",
              "        vertical-align: top;\n",
              "    }\n",
              "\n",
              "    .dataframe thead th {\n",
              "        text-align: right;\n",
              "    }\n",
              "</style>\n",
              "<table border=\"1\" class=\"dataframe\">\n",
              "  <thead>\n",
              "    <tr style=\"text-align: right;\">\n",
              "      <th></th>\n",
              "      <th>proto_category_1</th>\n",
              "      <th>saddr_category_1</th>\n",
              "      <th>sport_category_1</th>\n",
              "      <th>daddr_category_1</th>\n",
              "      <th>dport_category_1</th>\n",
              "      <th>proto_category_2</th>\n",
              "      <th>saddr_category_2</th>\n",
              "      <th>sport_category_2</th>\n",
              "      <th>daddr_category_2</th>\n",
              "      <th>dport_category_2</th>\n",
              "      <th>proto_category_3</th>\n",
              "      <th>saddr_category_3</th>\n",
              "      <th>sport_category_3</th>\n",
              "      <th>daddr_category_3</th>\n",
              "      <th>dport_category_3</th>\n",
              "      <th>proto_category_4</th>\n",
              "      <th>saddr_category_4</th>\n",
              "      <th>sport_category_4</th>\n",
              "      <th>daddr_category_4</th>\n",
              "      <th>dport_category_4</th>\n",
              "      <th>proto_category_5</th>\n",
              "      <th>saddr_category_5</th>\n",
              "      <th>sport_category_5</th>\n",
              "      <th>daddr_category_5</th>\n",
              "      <th>dport_category_5</th>\n",
              "    </tr>\n",
              "  </thead>\n",
              "  <tbody>\n",
              "    <tr>\n",
              "      <th>0</th>\n",
              "      <td>0.517034</td>\n",
              "      <td>0.462725</td>\n",
              "      <td>0.352941</td>\n",
              "      <td>0.173510</td>\n",
              "      <td>0.461713</td>\n",
              "      <td>0.475314</td>\n",
              "      <td>0.512719</td>\n",
              "      <td>0.647059</td>\n",
              "      <td>0.809391</td>\n",
              "      <td>0.538059</td>\n",
              "      <td>0.007437</td>\n",
              "      <td>0.024460</td>\n",
              "      <td>2.785828e-09</td>\n",
              "      <td>0.017080</td>\n",
              "      <td>0.000217</td>\n",
              "      <td>0.000215</td>\n",
              "      <td>0.000067</td>\n",
              "      <td>1.641159e-11</td>\n",
              "      <td>0.000008</td>\n",
              "      <td>0.000011</td>\n",
              "      <td>0.000000</td>\n",
              "      <td>0.000028</td>\n",
              "      <td>2.147310e-12</td>\n",
              "      <td>0.000011</td>\n",
              "      <td>0.0</td>\n",
              "    </tr>\n",
              "    <tr>\n",
              "      <th>1</th>\n",
              "      <td>0.371697</td>\n",
              "      <td>0.442030</td>\n",
              "      <td>0.624840</td>\n",
              "      <td>0.173510</td>\n",
              "      <td>0.461713</td>\n",
              "      <td>0.588028</td>\n",
              "      <td>0.535132</td>\n",
              "      <td>0.375137</td>\n",
              "      <td>0.809391</td>\n",
              "      <td>0.538059</td>\n",
              "      <td>0.040206</td>\n",
              "      <td>0.022773</td>\n",
              "      <td>2.255324e-05</td>\n",
              "      <td>0.017080</td>\n",
              "      <td>0.000217</td>\n",
              "      <td>0.000030</td>\n",
              "      <td>0.000065</td>\n",
              "      <td>1.328633e-07</td>\n",
              "      <td>0.000008</td>\n",
              "      <td>0.000011</td>\n",
              "      <td>0.000039</td>\n",
              "      <td>0.000000</td>\n",
              "      <td>1.738399e-08</td>\n",
              "      <td>0.000011</td>\n",
              "      <td>0.0</td>\n",
              "    </tr>\n",
              "    <tr>\n",
              "      <th>2</th>\n",
              "      <td>0.517034</td>\n",
              "      <td>0.471855</td>\n",
              "      <td>0.499994</td>\n",
              "      <td>0.173510</td>\n",
              "      <td>0.461713</td>\n",
              "      <td>0.475314</td>\n",
              "      <td>0.507779</td>\n",
              "      <td>0.500003</td>\n",
              "      <td>0.809391</td>\n",
              "      <td>0.538059</td>\n",
              "      <td>0.007437</td>\n",
              "      <td>0.020299</td>\n",
              "      <td>3.054655e-06</td>\n",
              "      <td>0.017080</td>\n",
              "      <td>0.000217</td>\n",
              "      <td>0.000215</td>\n",
              "      <td>0.000067</td>\n",
              "      <td>1.799527e-08</td>\n",
              "      <td>0.000008</td>\n",
              "      <td>0.000011</td>\n",
              "      <td>0.000000</td>\n",
              "      <td>0.000000</td>\n",
              "      <td>2.354521e-09</td>\n",
              "      <td>0.000011</td>\n",
              "      <td>0.0</td>\n",
              "    </tr>\n",
              "    <tr>\n",
              "      <th>3</th>\n",
              "      <td>0.371697</td>\n",
              "      <td>0.442030</td>\n",
              "      <td>0.352941</td>\n",
              "      <td>0.173510</td>\n",
              "      <td>0.461713</td>\n",
              "      <td>0.588028</td>\n",
              "      <td>0.535132</td>\n",
              "      <td>0.588235</td>\n",
              "      <td>0.809391</td>\n",
              "      <td>0.538059</td>\n",
              "      <td>0.040206</td>\n",
              "      <td>0.022773</td>\n",
              "      <td>5.882353e-02</td>\n",
              "      <td>0.017080</td>\n",
              "      <td>0.000217</td>\n",
              "      <td>0.000030</td>\n",
              "      <td>0.000065</td>\n",
              "      <td>1.641159e-11</td>\n",
              "      <td>0.000008</td>\n",
              "      <td>0.000011</td>\n",
              "      <td>0.000039</td>\n",
              "      <td>0.000000</td>\n",
              "      <td>2.147310e-12</td>\n",
              "      <td>0.000011</td>\n",
              "      <td>0.0</td>\n",
              "    </tr>\n",
              "    <tr>\n",
              "      <th>4</th>\n",
              "      <td>0.371697</td>\n",
              "      <td>0.471855</td>\n",
              "      <td>0.333335</td>\n",
              "      <td>0.930698</td>\n",
              "      <td>0.461713</td>\n",
              "      <td>0.588028</td>\n",
              "      <td>0.507779</td>\n",
              "      <td>0.666664</td>\n",
              "      <td>0.000000</td>\n",
              "      <td>0.538059</td>\n",
              "      <td>0.040206</td>\n",
              "      <td>0.020299</td>\n",
              "      <td>4.134467e-07</td>\n",
              "      <td>0.069225</td>\n",
              "      <td>0.000217</td>\n",
              "      <td>0.000030</td>\n",
              "      <td>0.000067</td>\n",
              "      <td>2.435655e-09</td>\n",
              "      <td>0.000077</td>\n",
              "      <td>0.000011</td>\n",
              "      <td>0.000039</td>\n",
              "      <td>0.000000</td>\n",
              "      <td>3.186838e-10</td>\n",
              "      <td>0.000000</td>\n",
              "      <td>0.0</td>\n",
              "    </tr>\n",
              "    <tr>\n",
              "      <th>...</th>\n",
              "      <td>...</td>\n",
              "      <td>...</td>\n",
              "      <td>...</td>\n",
              "      <td>...</td>\n",
              "      <td>...</td>\n",
              "      <td>...</td>\n",
              "      <td>...</td>\n",
              "      <td>...</td>\n",
              "      <td>...</td>\n",
              "      <td>...</td>\n",
              "      <td>...</td>\n",
              "      <td>...</td>\n",
              "      <td>...</td>\n",
              "      <td>...</td>\n",
              "      <td>...</td>\n",
              "      <td>...</td>\n",
              "      <td>...</td>\n",
              "      <td>...</td>\n",
              "      <td>...</td>\n",
              "      <td>...</td>\n",
              "      <td>...</td>\n",
              "      <td>...</td>\n",
              "      <td>...</td>\n",
              "      <td>...</td>\n",
              "      <td>...</td>\n",
              "    </tr>\n",
              "    <tr>\n",
              "      <th>733700</th>\n",
              "      <td>0.517034</td>\n",
              "      <td>0.442030</td>\n",
              "      <td>0.437500</td>\n",
              "      <td>0.988210</td>\n",
              "      <td>0.461713</td>\n",
              "      <td>0.475314</td>\n",
              "      <td>0.535132</td>\n",
              "      <td>0.562500</td>\n",
              "      <td>0.000000</td>\n",
              "      <td>0.538059</td>\n",
              "      <td>0.007437</td>\n",
              "      <td>0.022773</td>\n",
              "      <td>7.572665e-09</td>\n",
              "      <td>0.011790</td>\n",
              "      <td>0.000217</td>\n",
              "      <td>0.000215</td>\n",
              "      <td>0.000065</td>\n",
              "      <td>4.461131e-11</td>\n",
              "      <td>0.000000</td>\n",
              "      <td>0.000011</td>\n",
              "      <td>0.000000</td>\n",
              "      <td>0.000000</td>\n",
              "      <td>5.836993e-12</td>\n",
              "      <td>0.000000</td>\n",
              "      <td>0.0</td>\n",
              "    </tr>\n",
              "    <tr>\n",
              "      <th>733701</th>\n",
              "      <td>0.517034</td>\n",
              "      <td>0.431057</td>\n",
              "      <td>0.333335</td>\n",
              "      <td>0.173510</td>\n",
              "      <td>0.461713</td>\n",
              "      <td>0.475314</td>\n",
              "      <td>0.547414</td>\n",
              "      <td>0.666664</td>\n",
              "      <td>0.809391</td>\n",
              "      <td>0.538059</td>\n",
              "      <td>0.007437</td>\n",
              "      <td>0.021471</td>\n",
              "      <td>4.134467e-07</td>\n",
              "      <td>0.017080</td>\n",
              "      <td>0.000217</td>\n",
              "      <td>0.000215</td>\n",
              "      <td>0.000058</td>\n",
              "      <td>2.435655e-09</td>\n",
              "      <td>0.000008</td>\n",
              "      <td>0.000011</td>\n",
              "      <td>0.000000</td>\n",
              "      <td>0.000000</td>\n",
              "      <td>3.186838e-10</td>\n",
              "      <td>0.000011</td>\n",
              "      <td>0.0</td>\n",
              "    </tr>\n",
              "    <tr>\n",
              "      <th>733702</th>\n",
              "      <td>0.371697</td>\n",
              "      <td>0.471855</td>\n",
              "      <td>0.411765</td>\n",
              "      <td>0.173510</td>\n",
              "      <td>0.461713</td>\n",
              "      <td>0.588028</td>\n",
              "      <td>0.507779</td>\n",
              "      <td>0.529412</td>\n",
              "      <td>0.809391</td>\n",
              "      <td>0.538059</td>\n",
              "      <td>0.040206</td>\n",
              "      <td>0.020299</td>\n",
              "      <td>5.882353e-02</td>\n",
              "      <td>0.017080</td>\n",
              "      <td>0.000217</td>\n",
              "      <td>0.000030</td>\n",
              "      <td>0.000067</td>\n",
              "      <td>1.641159e-11</td>\n",
              "      <td>0.000008</td>\n",
              "      <td>0.000011</td>\n",
              "      <td>0.000039</td>\n",
              "      <td>0.000000</td>\n",
              "      <td>2.147310e-12</td>\n",
              "      <td>0.000011</td>\n",
              "      <td>0.0</td>\n",
              "    </tr>\n",
              "    <tr>\n",
              "      <th>733703</th>\n",
              "      <td>0.371697</td>\n",
              "      <td>0.431057</td>\n",
              "      <td>0.500000</td>\n",
              "      <td>0.989069</td>\n",
              "      <td>0.461713</td>\n",
              "      <td>0.588028</td>\n",
              "      <td>0.547414</td>\n",
              "      <td>0.500000</td>\n",
              "      <td>0.000000</td>\n",
              "      <td>0.538059</td>\n",
              "      <td>0.040206</td>\n",
              "      <td>0.021471</td>\n",
              "      <td>5.595474e-08</td>\n",
              "      <td>0.010919</td>\n",
              "      <td>0.000217</td>\n",
              "      <td>0.000030</td>\n",
              "      <td>0.000058</td>\n",
              "      <td>3.296348e-10</td>\n",
              "      <td>0.000012</td>\n",
              "      <td>0.000011</td>\n",
              "      <td>0.000039</td>\n",
              "      <td>0.000000</td>\n",
              "      <td>4.312979e-11</td>\n",
              "      <td>0.000000</td>\n",
              "      <td>0.0</td>\n",
              "    </tr>\n",
              "    <tr>\n",
              "      <th>733704</th>\n",
              "      <td>0.371697</td>\n",
              "      <td>0.431057</td>\n",
              "      <td>0.375068</td>\n",
              "      <td>0.173510</td>\n",
              "      <td>0.461713</td>\n",
              "      <td>0.588028</td>\n",
              "      <td>0.547414</td>\n",
              "      <td>0.624909</td>\n",
              "      <td>0.809391</td>\n",
              "      <td>0.538059</td>\n",
              "      <td>0.040206</td>\n",
              "      <td>0.021471</td>\n",
              "      <td>2.255324e-05</td>\n",
              "      <td>0.017080</td>\n",
              "      <td>0.000217</td>\n",
              "      <td>0.000030</td>\n",
              "      <td>0.000058</td>\n",
              "      <td>1.328633e-07</td>\n",
              "      <td>0.000008</td>\n",
              "      <td>0.000011</td>\n",
              "      <td>0.000039</td>\n",
              "      <td>0.000000</td>\n",
              "      <td>1.738399e-08</td>\n",
              "      <td>0.000011</td>\n",
              "      <td>0.0</td>\n",
              "    </tr>\n",
              "  </tbody>\n",
              "</table>\n",
              "<p>733705 rows × 25 columns</p>\n",
              "</div>"
            ],
            "text/plain": [
              "        proto_category_1  saddr_category_1  ...  daddr_category_5  dport_category_5\n",
              "0               0.517034          0.462725  ...          0.000011               0.0\n",
              "1               0.371697          0.442030  ...          0.000011               0.0\n",
              "2               0.517034          0.471855  ...          0.000011               0.0\n",
              "3               0.371697          0.442030  ...          0.000011               0.0\n",
              "4               0.371697          0.471855  ...          0.000000               0.0\n",
              "...                  ...               ...  ...               ...               ...\n",
              "733700          0.517034          0.442030  ...          0.000000               0.0\n",
              "733701          0.517034          0.431057  ...          0.000011               0.0\n",
              "733702          0.371697          0.471855  ...          0.000011               0.0\n",
              "733703          0.371697          0.431057  ...          0.000000               0.0\n",
              "733704          0.371697          0.431057  ...          0.000011               0.0\n",
              "\n",
              "[733705 rows x 25 columns]"
            ]
          },
          "metadata": {
            "tags": []
          },
          "execution_count": 14
        }
      ]
    },
    {
      "cell_type": "markdown",
      "metadata": {
        "id": "slTjSnxGQwq_"
      },
      "source": [
        "Now we hav Target_Encoded the categorical features of both test and train datasets, we didnt take the following encoding aproaches : \n",
        "1. one hot coding - Dimentionality problem arises\n",
        "2. label encoding - data is not ordinal\n",
        "3. mean encoding - Dependent variable is not binary and same mean appears for more than 1 unique value, it is a multiclass classification problem\n",
        "Refer to article for further understanding : https://towardsdatascience.com/target-encoding-for-multi-class-classification-c9a7bcb1a53"
      ]
    },
    {
      "cell_type": "code",
      "metadata": {
        "execution": {
          "iopub.status.busy": "2021-07-11T17:53:07.459856Z",
          "iopub.execute_input": "2021-07-11T17:53:07.460147Z",
          "iopub.status.idle": "2021-07-11T17:53:07.542995Z",
          "shell.execute_reply.started": "2021-07-11T17:53:07.460120Z",
          "shell.execute_reply": "2021-07-11T17:53:07.542093Z"
        },
        "trusted": true,
        "id": "vu-jIgnvQwq_"
      },
      "source": [
        "train_num_features=train_num_features.drop(['pkSeqID','attack'],axis=1)"
      ],
      "execution_count": null,
      "outputs": []
    },
    {
      "cell_type": "code",
      "metadata": {
        "execution": {
          "iopub.status.busy": "2021-07-11T17:53:07.544171Z",
          "iopub.execute_input": "2021-07-11T17:53:07.544453Z",
          "iopub.status.idle": "2021-07-11T17:53:07.561419Z",
          "shell.execute_reply.started": "2021-07-11T17:53:07.544427Z",
          "shell.execute_reply": "2021-07-11T17:53:07.560519Z"
        },
        "trusted": true,
        "id": "KwoOkmnbQwrA"
      },
      "source": [
        "num_features=num_features.drop(['pkSeqID','attack'],axis=1)"
      ],
      "execution_count": null,
      "outputs": []
    },
    {
      "cell_type": "code",
      "metadata": {
        "execution": {
          "iopub.status.busy": "2021-07-11T17:53:07.562579Z",
          "iopub.execute_input": "2021-07-11T17:53:07.562920Z",
          "iopub.status.idle": "2021-07-11T17:53:09.031808Z",
          "shell.execute_reply.started": "2021-07-11T17:53:07.562888Z",
          "shell.execute_reply": "2021-07-11T17:53:09.031068Z"
        },
        "trusted": true,
        "colab": {
          "base_uri": "https://localhost:8080/"
        },
        "id": "oVP2aMC5QwrC",
        "outputId": "15d86aa4-4dbe-42e4-b421-479a78dcc96a"
      },
      "source": [
        "from sklearn import preprocessing\n",
        "  \n",
        "df_train.category = df_train.category.map({'DDoS': 0, 'DoS': 1, 'Normal': 2, 'Reconnaissance': 3, 'Theft': 4} )\n",
        "\n",
        "df_train['category']"
      ],
      "execution_count": null,
      "outputs": [
        {
          "output_type": "execute_result",
          "data": {
            "text/plain": [
              "0          0\n",
              "1          0\n",
              "2          0\n",
              "3          1\n",
              "4          0\n",
              "          ..\n",
              "2934812    1\n",
              "2934813    0\n",
              "2934814    1\n",
              "2934815    1\n",
              "2934816    1\n",
              "Name: category, Length: 2934817, dtype: int64"
            ]
          },
          "metadata": {
            "tags": []
          },
          "execution_count": 17
        }
      ]
    },
    {
      "cell_type": "markdown",
      "metadata": {
        "id": "Dn1-uMIDQwrC"
      },
      "source": [
        "We have applied Feature scaling and transformation and now all the feature values range between 0 and 1."
      ]
    },
    {
      "cell_type": "code",
      "metadata": {
        "execution": {
          "iopub.status.busy": "2021-07-11T17:53:40.379640Z",
          "iopub.execute_input": "2021-07-11T17:53:40.379989Z",
          "iopub.status.idle": "2021-07-11T17:53:42.199538Z",
          "shell.execute_reply.started": "2021-07-11T17:53:40.379960Z",
          "shell.execute_reply": "2021-07-11T17:53:42.198539Z"
        },
        "trusted": true,
        "colab": {
          "base_uri": "https://localhost:8080/",
          "height": 434
        },
        "id": "ix5npEafQwrD",
        "outputId": "a6930897-db1e-4874-c432-33045b1a953d"
      },
      "source": [
        "#TRAIN NUM FEATURES WITHOUT SCALING\n",
        "df_train_final=pd.concat([train_num_features,train_encoded_cat_features,df_train['category']],axis=1)\n",
        "df_train_final"
      ],
      "execution_count": null,
      "outputs": [
        {
          "output_type": "execute_result",
          "data": {
            "text/html": [
              "<div>\n",
              "<style scoped>\n",
              "    .dataframe tbody tr th:only-of-type {\n",
              "        vertical-align: middle;\n",
              "    }\n",
              "\n",
              "    .dataframe tbody tr th {\n",
              "        vertical-align: top;\n",
              "    }\n",
              "\n",
              "    .dataframe thead th {\n",
              "        text-align: right;\n",
              "    }\n",
              "</style>\n",
              "<table border=\"1\" class=\"dataframe\">\n",
              "  <thead>\n",
              "    <tr style=\"text-align: right;\">\n",
              "      <th></th>\n",
              "      <th>seq</th>\n",
              "      <th>stddev</th>\n",
              "      <th>N_IN_Conn_P_SrcIP</th>\n",
              "      <th>min</th>\n",
              "      <th>state_number</th>\n",
              "      <th>mean</th>\n",
              "      <th>N_IN_Conn_P_DstIP</th>\n",
              "      <th>drate</th>\n",
              "      <th>srate</th>\n",
              "      <th>max</th>\n",
              "      <th>proto_category_1</th>\n",
              "      <th>saddr_category_1</th>\n",
              "      <th>sport_category_1</th>\n",
              "      <th>daddr_category_1</th>\n",
              "      <th>dport_category_1</th>\n",
              "      <th>proto_category_2</th>\n",
              "      <th>saddr_category_2</th>\n",
              "      <th>sport_category_2</th>\n",
              "      <th>daddr_category_2</th>\n",
              "      <th>dport_category_2</th>\n",
              "      <th>proto_category_3</th>\n",
              "      <th>saddr_category_3</th>\n",
              "      <th>sport_category_3</th>\n",
              "      <th>daddr_category_3</th>\n",
              "      <th>dport_category_3</th>\n",
              "      <th>proto_category_4</th>\n",
              "      <th>saddr_category_4</th>\n",
              "      <th>sport_category_4</th>\n",
              "      <th>daddr_category_4</th>\n",
              "      <th>dport_category_4</th>\n",
              "      <th>proto_category_5</th>\n",
              "      <th>saddr_category_5</th>\n",
              "      <th>sport_category_5</th>\n",
              "      <th>daddr_category_5</th>\n",
              "      <th>dport_category_5</th>\n",
              "      <th>category</th>\n",
              "    </tr>\n",
              "  </thead>\n",
              "  <tbody>\n",
              "    <tr>\n",
              "      <th>0</th>\n",
              "      <td>251984</td>\n",
              "      <td>1.900363</td>\n",
              "      <td>100</td>\n",
              "      <td>0.000000</td>\n",
              "      <td>4</td>\n",
              "      <td>2.687519</td>\n",
              "      <td>100</td>\n",
              "      <td>0.000000</td>\n",
              "      <td>0.494549</td>\n",
              "      <td>4.031619</td>\n",
              "      <td>0.474868</td>\n",
              "      <td>0.513404</td>\n",
              "      <td>0.500000</td>\n",
              "      <td>0.809518</td>\n",
              "      <td>0.538172</td>\n",
              "      <td>0.517479</td>\n",
              "      <td>0.461608</td>\n",
              "      <td>0.500000</td>\n",
              "      <td>0.173172</td>\n",
              "      <td>0.461624</td>\n",
              "      <td>0.007471</td>\n",
              "      <td>0.024890</td>\n",
              "      <td>0.0</td>\n",
              "      <td>0.017288</td>\n",
              "      <td>0.000198</td>\n",
              "      <td>0.000181</td>\n",
              "      <td>0.000067</td>\n",
              "      <td>0.0</td>\n",
              "      <td>0.000011</td>\n",
              "      <td>0.000005</td>\n",
              "      <td>0.000000</td>\n",
              "      <td>0.000031</td>\n",
              "      <td>0.0</td>\n",
              "      <td>0.000012</td>\n",
              "      <td>0.0</td>\n",
              "      <td>0</td>\n",
              "    </tr>\n",
              "    <tr>\n",
              "      <th>1</th>\n",
              "      <td>256724</td>\n",
              "      <td>0.078003</td>\n",
              "      <td>38</td>\n",
              "      <td>3.856930</td>\n",
              "      <td>3</td>\n",
              "      <td>3.934927</td>\n",
              "      <td>100</td>\n",
              "      <td>0.000000</td>\n",
              "      <td>0.256493</td>\n",
              "      <td>4.012924</td>\n",
              "      <td>0.588456</td>\n",
              "      <td>0.513404</td>\n",
              "      <td>0.571429</td>\n",
              "      <td>0.809518</td>\n",
              "      <td>0.538172</td>\n",
              "      <td>0.371094</td>\n",
              "      <td>0.461608</td>\n",
              "      <td>0.428571</td>\n",
              "      <td>0.173172</td>\n",
              "      <td>0.461624</td>\n",
              "      <td>0.040375</td>\n",
              "      <td>0.024890</td>\n",
              "      <td>0.0</td>\n",
              "      <td>0.017288</td>\n",
              "      <td>0.000198</td>\n",
              "      <td>0.000028</td>\n",
              "      <td>0.000067</td>\n",
              "      <td>0.0</td>\n",
              "      <td>0.000011</td>\n",
              "      <td>0.000005</td>\n",
              "      <td>0.000047</td>\n",
              "      <td>0.000031</td>\n",
              "      <td>0.0</td>\n",
              "      <td>0.000012</td>\n",
              "      <td>0.0</td>\n",
              "      <td>0</td>\n",
              "    </tr>\n",
              "    <tr>\n",
              "      <th>2</th>\n",
              "      <td>62921</td>\n",
              "      <td>0.268666</td>\n",
              "      <td>100</td>\n",
              "      <td>2.974100</td>\n",
              "      <td>3</td>\n",
              "      <td>3.341429</td>\n",
              "      <td>100</td>\n",
              "      <td>0.000000</td>\n",
              "      <td>0.294880</td>\n",
              "      <td>3.609205</td>\n",
              "      <td>0.588456</td>\n",
              "      <td>0.546615</td>\n",
              "      <td>0.600000</td>\n",
              "      <td>0.809518</td>\n",
              "      <td>0.538172</td>\n",
              "      <td>0.371094</td>\n",
              "      <td>0.431252</td>\n",
              "      <td>0.400000</td>\n",
              "      <td>0.173172</td>\n",
              "      <td>0.461624</td>\n",
              "      <td>0.040375</td>\n",
              "      <td>0.022084</td>\n",
              "      <td>0.0</td>\n",
              "      <td>0.017288</td>\n",
              "      <td>0.000198</td>\n",
              "      <td>0.000028</td>\n",
              "      <td>0.000049</td>\n",
              "      <td>0.0</td>\n",
              "      <td>0.000011</td>\n",
              "      <td>0.000005</td>\n",
              "      <td>0.000047</td>\n",
              "      <td>0.000000</td>\n",
              "      <td>0.0</td>\n",
              "      <td>0.000012</td>\n",
              "      <td>0.0</td>\n",
              "      <td>0</td>\n",
              "    </tr>\n",
              "    <tr>\n",
              "      <th>3</th>\n",
              "      <td>99168</td>\n",
              "      <td>1.823185</td>\n",
              "      <td>63</td>\n",
              "      <td>0.000000</td>\n",
              "      <td>4</td>\n",
              "      <td>3.222832</td>\n",
              "      <td>63</td>\n",
              "      <td>0.000000</td>\n",
              "      <td>0.461435</td>\n",
              "      <td>4.942302</td>\n",
              "      <td>0.474868</td>\n",
              "      <td>0.513404</td>\n",
              "      <td>0.531915</td>\n",
              "      <td>0.809518</td>\n",
              "      <td>0.538172</td>\n",
              "      <td>0.517479</td>\n",
              "      <td>0.461608</td>\n",
              "      <td>0.468085</td>\n",
              "      <td>0.173172</td>\n",
              "      <td>0.461624</td>\n",
              "      <td>0.007471</td>\n",
              "      <td>0.024890</td>\n",
              "      <td>0.0</td>\n",
              "      <td>0.017288</td>\n",
              "      <td>0.000198</td>\n",
              "      <td>0.000181</td>\n",
              "      <td>0.000067</td>\n",
              "      <td>0.0</td>\n",
              "      <td>0.000011</td>\n",
              "      <td>0.000005</td>\n",
              "      <td>0.000000</td>\n",
              "      <td>0.000031</td>\n",
              "      <td>0.0</td>\n",
              "      <td>0.000012</td>\n",
              "      <td>0.0</td>\n",
              "      <td>1</td>\n",
              "    </tr>\n",
              "    <tr>\n",
              "      <th>4</th>\n",
              "      <td>105063</td>\n",
              "      <td>0.822418</td>\n",
              "      <td>100</td>\n",
              "      <td>2.979995</td>\n",
              "      <td>4</td>\n",
              "      <td>3.983222</td>\n",
              "      <td>100</td>\n",
              "      <td>0.000000</td>\n",
              "      <td>1.002999</td>\n",
              "      <td>4.994452</td>\n",
              "      <td>0.474868</td>\n",
              "      <td>0.546615</td>\n",
              "      <td>0.521739</td>\n",
              "      <td>0.809518</td>\n",
              "      <td>0.538172</td>\n",
              "      <td>0.517479</td>\n",
              "      <td>0.431252</td>\n",
              "      <td>0.478261</td>\n",
              "      <td>0.173172</td>\n",
              "      <td>0.461624</td>\n",
              "      <td>0.007471</td>\n",
              "      <td>0.022084</td>\n",
              "      <td>0.0</td>\n",
              "      <td>0.017288</td>\n",
              "      <td>0.000198</td>\n",
              "      <td>0.000181</td>\n",
              "      <td>0.000049</td>\n",
              "      <td>0.0</td>\n",
              "      <td>0.000011</td>\n",
              "      <td>0.000005</td>\n",
              "      <td>0.000000</td>\n",
              "      <td>0.000000</td>\n",
              "      <td>0.0</td>\n",
              "      <td>0.000012</td>\n",
              "      <td>0.0</td>\n",
              "      <td>0</td>\n",
              "    </tr>\n",
              "    <tr>\n",
              "      <th>...</th>\n",
              "      <td>...</td>\n",
              "      <td>...</td>\n",
              "      <td>...</td>\n",
              "      <td>...</td>\n",
              "      <td>...</td>\n",
              "      <td>...</td>\n",
              "      <td>...</td>\n",
              "      <td>...</td>\n",
              "      <td>...</td>\n",
              "      <td>...</td>\n",
              "      <td>...</td>\n",
              "      <td>...</td>\n",
              "      <td>...</td>\n",
              "      <td>...</td>\n",
              "      <td>...</td>\n",
              "      <td>...</td>\n",
              "      <td>...</td>\n",
              "      <td>...</td>\n",
              "      <td>...</td>\n",
              "      <td>...</td>\n",
              "      <td>...</td>\n",
              "      <td>...</td>\n",
              "      <td>...</td>\n",
              "      <td>...</td>\n",
              "      <td>...</td>\n",
              "      <td>...</td>\n",
              "      <td>...</td>\n",
              "      <td>...</td>\n",
              "      <td>...</td>\n",
              "      <td>...</td>\n",
              "      <td>...</td>\n",
              "      <td>...</td>\n",
              "      <td>...</td>\n",
              "      <td>...</td>\n",
              "      <td>...</td>\n",
              "      <td>...</td>\n",
              "    </tr>\n",
              "    <tr>\n",
              "      <th>2934812</th>\n",
              "      <td>253370</td>\n",
              "      <td>0.016992</td>\n",
              "      <td>100</td>\n",
              "      <td>4.082509</td>\n",
              "      <td>4</td>\n",
              "      <td>4.102515</td>\n",
              "      <td>100</td>\n",
              "      <td>0.000000</td>\n",
              "      <td>0.243473</td>\n",
              "      <td>4.124047</td>\n",
              "      <td>0.474868</td>\n",
              "      <td>0.507210</td>\n",
              "      <td>0.533333</td>\n",
              "      <td>0.000000</td>\n",
              "      <td>0.538172</td>\n",
              "      <td>0.517479</td>\n",
              "      <td>0.472855</td>\n",
              "      <td>0.466667</td>\n",
              "      <td>0.930475</td>\n",
              "      <td>0.461624</td>\n",
              "      <td>0.007471</td>\n",
              "      <td>0.019883</td>\n",
              "      <td>0.0</td>\n",
              "      <td>0.069500</td>\n",
              "      <td>0.000198</td>\n",
              "      <td>0.000181</td>\n",
              "      <td>0.000051</td>\n",
              "      <td>0.0</td>\n",
              "      <td>0.000025</td>\n",
              "      <td>0.000005</td>\n",
              "      <td>0.000000</td>\n",
              "      <td>0.000001</td>\n",
              "      <td>0.0</td>\n",
              "      <td>0.000000</td>\n",
              "      <td>0.0</td>\n",
              "      <td>1</td>\n",
              "    </tr>\n",
              "    <tr>\n",
              "      <th>2934813</th>\n",
              "      <td>231693</td>\n",
              "      <td>1.922317</td>\n",
              "      <td>100</td>\n",
              "      <td>0.000000</td>\n",
              "      <td>4</td>\n",
              "      <td>2.718527</td>\n",
              "      <td>100</td>\n",
              "      <td>0.000000</td>\n",
              "      <td>0.490800</td>\n",
              "      <td>4.090534</td>\n",
              "      <td>0.474868</td>\n",
              "      <td>0.513404</td>\n",
              "      <td>0.512195</td>\n",
              "      <td>0.809518</td>\n",
              "      <td>0.538172</td>\n",
              "      <td>0.517479</td>\n",
              "      <td>0.461608</td>\n",
              "      <td>0.487805</td>\n",
              "      <td>0.173172</td>\n",
              "      <td>0.461624</td>\n",
              "      <td>0.007471</td>\n",
              "      <td>0.024890</td>\n",
              "      <td>0.0</td>\n",
              "      <td>0.017288</td>\n",
              "      <td>0.000198</td>\n",
              "      <td>0.000181</td>\n",
              "      <td>0.000067</td>\n",
              "      <td>0.0</td>\n",
              "      <td>0.000011</td>\n",
              "      <td>0.000005</td>\n",
              "      <td>0.000000</td>\n",
              "      <td>0.000031</td>\n",
              "      <td>0.0</td>\n",
              "      <td>0.000012</td>\n",
              "      <td>0.0</td>\n",
              "      <td>0</td>\n",
              "    </tr>\n",
              "    <tr>\n",
              "      <th>2934814</th>\n",
              "      <td>158616</td>\n",
              "      <td>2.112228</td>\n",
              "      <td>100</td>\n",
              "      <td>0.000000</td>\n",
              "      <td>4</td>\n",
              "      <td>2.110766</td>\n",
              "      <td>100</td>\n",
              "      <td>0.000000</td>\n",
              "      <td>0.207444</td>\n",
              "      <td>4.332615</td>\n",
              "      <td>0.474868</td>\n",
              "      <td>0.507210</td>\n",
              "      <td>0.560000</td>\n",
              "      <td>0.000000</td>\n",
              "      <td>0.538172</td>\n",
              "      <td>0.517479</td>\n",
              "      <td>0.472855</td>\n",
              "      <td>0.440000</td>\n",
              "      <td>0.930475</td>\n",
              "      <td>0.461624</td>\n",
              "      <td>0.007471</td>\n",
              "      <td>0.019883</td>\n",
              "      <td>0.0</td>\n",
              "      <td>0.069500</td>\n",
              "      <td>0.000198</td>\n",
              "      <td>0.000181</td>\n",
              "      <td>0.000051</td>\n",
              "      <td>0.0</td>\n",
              "      <td>0.000025</td>\n",
              "      <td>0.000005</td>\n",
              "      <td>0.000000</td>\n",
              "      <td>0.000001</td>\n",
              "      <td>0.0</td>\n",
              "      <td>0.000000</td>\n",
              "      <td>0.0</td>\n",
              "      <td>1</td>\n",
              "    </tr>\n",
              "    <tr>\n",
              "      <th>2934815</th>\n",
              "      <td>179855</td>\n",
              "      <td>0.000000</td>\n",
              "      <td>100</td>\n",
              "      <td>0.000000</td>\n",
              "      <td>3</td>\n",
              "      <td>0.000000</td>\n",
              "      <td>100</td>\n",
              "      <td>0.000000</td>\n",
              "      <td>0.162130</td>\n",
              "      <td>0.000000</td>\n",
              "      <td>0.588456</td>\n",
              "      <td>0.546615</td>\n",
              "      <td>0.522727</td>\n",
              "      <td>0.000000</td>\n",
              "      <td>0.538172</td>\n",
              "      <td>0.371094</td>\n",
              "      <td>0.431252</td>\n",
              "      <td>0.477273</td>\n",
              "      <td>0.989186</td>\n",
              "      <td>0.461624</td>\n",
              "      <td>0.040375</td>\n",
              "      <td>0.022084</td>\n",
              "      <td>0.0</td>\n",
              "      <td>0.010805</td>\n",
              "      <td>0.000198</td>\n",
              "      <td>0.000028</td>\n",
              "      <td>0.000049</td>\n",
              "      <td>0.0</td>\n",
              "      <td>0.000009</td>\n",
              "      <td>0.000005</td>\n",
              "      <td>0.000047</td>\n",
              "      <td>0.000000</td>\n",
              "      <td>0.0</td>\n",
              "      <td>0.000000</td>\n",
              "      <td>0.0</td>\n",
              "      <td>1</td>\n",
              "    </tr>\n",
              "    <tr>\n",
              "      <th>2934816</th>\n",
              "      <td>95429</td>\n",
              "      <td>0.053820</td>\n",
              "      <td>100</td>\n",
              "      <td>0.064767</td>\n",
              "      <td>1</td>\n",
              "      <td>0.118588</td>\n",
              "      <td>100</td>\n",
              "      <td>0.038796</td>\n",
              "      <td>0.116388</td>\n",
              "      <td>0.172408</td>\n",
              "      <td>0.588456</td>\n",
              "      <td>0.513404</td>\n",
              "      <td>0.574468</td>\n",
              "      <td>0.809518</td>\n",
              "      <td>0.538172</td>\n",
              "      <td>0.371094</td>\n",
              "      <td>0.461608</td>\n",
              "      <td>0.425532</td>\n",
              "      <td>0.173172</td>\n",
              "      <td>0.461624</td>\n",
              "      <td>0.040375</td>\n",
              "      <td>0.024890</td>\n",
              "      <td>0.0</td>\n",
              "      <td>0.017288</td>\n",
              "      <td>0.000198</td>\n",
              "      <td>0.000028</td>\n",
              "      <td>0.000067</td>\n",
              "      <td>0.0</td>\n",
              "      <td>0.000011</td>\n",
              "      <td>0.000005</td>\n",
              "      <td>0.000047</td>\n",
              "      <td>0.000031</td>\n",
              "      <td>0.0</td>\n",
              "      <td>0.000012</td>\n",
              "      <td>0.0</td>\n",
              "      <td>1</td>\n",
              "    </tr>\n",
              "  </tbody>\n",
              "</table>\n",
              "<p>2934817 rows × 36 columns</p>\n",
              "</div>"
            ],
            "text/plain": [
              "            seq    stddev  ...  dport_category_5  category\n",
              "0        251984  1.900363  ...               0.0         0\n",
              "1        256724  0.078003  ...               0.0         0\n",
              "2         62921  0.268666  ...               0.0         0\n",
              "3         99168  1.823185  ...               0.0         1\n",
              "4        105063  0.822418  ...               0.0         0\n",
              "...         ...       ...  ...               ...       ...\n",
              "2934812  253370  0.016992  ...               0.0         1\n",
              "2934813  231693  1.922317  ...               0.0         0\n",
              "2934814  158616  2.112228  ...               0.0         1\n",
              "2934815  179855  0.000000  ...               0.0         1\n",
              "2934816   95429  0.053820  ...               0.0         1\n",
              "\n",
              "[2934817 rows x 36 columns]"
            ]
          },
          "metadata": {
            "tags": []
          },
          "execution_count": 18
        }
      ]
    },
    {
      "cell_type": "code",
      "metadata": {
        "execution": {
          "iopub.status.busy": "2021-07-11T17:53:42.201024Z",
          "iopub.execute_input": "2021-07-11T17:53:42.201329Z",
          "iopub.status.idle": "2021-07-11T17:53:42.527565Z",
          "shell.execute_reply.started": "2021-07-11T17:53:42.201300Z",
          "shell.execute_reply": "2021-07-11T17:53:42.526311Z"
        },
        "trusted": true,
        "colab": {
          "base_uri": "https://localhost:8080/"
        },
        "id": "T-YwY2qWQwrE",
        "outputId": "43c08dde-c9e5-40c3-b0a4-bc1727e4b20b"
      },
      "source": [
        "from sklearn import preprocessing\n",
        "  \n",
        "df.category = df.category.map({'DDoS': 0, 'DoS': 1, 'Normal': 2, 'Reconnaissance': 3, 'Theft': 4} )\n",
        "\n",
        "df['category']"
      ],
      "execution_count": null,
      "outputs": [
        {
          "output_type": "execute_result",
          "data": {
            "text/plain": [
              "0         1\n",
              "1         0\n",
              "2         0\n",
              "3         0\n",
              "4         1\n",
              "         ..\n",
              "733700    1\n",
              "733701    0\n",
              "733702    0\n",
              "733703    1\n",
              "733704    0\n",
              "Name: category, Length: 733705, dtype: int64"
            ]
          },
          "metadata": {
            "tags": []
          },
          "execution_count": 19
        }
      ]
    },
    {
      "cell_type": "code",
      "metadata": {
        "execution": {
          "iopub.status.busy": "2021-07-11T17:53:42.967087Z",
          "iopub.execute_input": "2021-07-11T17:53:42.967447Z",
          "iopub.status.idle": "2021-07-11T17:53:43.436476Z",
          "shell.execute_reply.started": "2021-07-11T17:53:42.967416Z",
          "shell.execute_reply": "2021-07-11T17:53:43.435530Z"
        },
        "trusted": true,
        "colab": {
          "base_uri": "https://localhost:8080/",
          "height": 434
        },
        "id": "vDICkrk5QwrE",
        "outputId": "41b605ad-f5d4-43ea-a75a-1688be1c04fb"
      },
      "source": [
        "#NON SCALED TEST NUM FEATURES\n",
        "df_test_final=pd.concat([num_features,test_encoded_cat_features,df['category']],axis=1)\n",
        "df_test_final"
      ],
      "execution_count": null,
      "outputs": [
        {
          "output_type": "execute_result",
          "data": {
            "text/html": [
              "<div>\n",
              "<style scoped>\n",
              "    .dataframe tbody tr th:only-of-type {\n",
              "        vertical-align: middle;\n",
              "    }\n",
              "\n",
              "    .dataframe tbody tr th {\n",
              "        vertical-align: top;\n",
              "    }\n",
              "\n",
              "    .dataframe thead th {\n",
              "        text-align: right;\n",
              "    }\n",
              "</style>\n",
              "<table border=\"1\" class=\"dataframe\">\n",
              "  <thead>\n",
              "    <tr style=\"text-align: right;\">\n",
              "      <th></th>\n",
              "      <th>seq</th>\n",
              "      <th>stddev</th>\n",
              "      <th>N_IN_Conn_P_SrcIP</th>\n",
              "      <th>min</th>\n",
              "      <th>state_number</th>\n",
              "      <th>mean</th>\n",
              "      <th>N_IN_Conn_P_DstIP</th>\n",
              "      <th>drate</th>\n",
              "      <th>srate</th>\n",
              "      <th>max</th>\n",
              "      <th>proto_category_1</th>\n",
              "      <th>saddr_category_1</th>\n",
              "      <th>sport_category_1</th>\n",
              "      <th>daddr_category_1</th>\n",
              "      <th>dport_category_1</th>\n",
              "      <th>proto_category_2</th>\n",
              "      <th>saddr_category_2</th>\n",
              "      <th>sport_category_2</th>\n",
              "      <th>daddr_category_2</th>\n",
              "      <th>dport_category_2</th>\n",
              "      <th>proto_category_3</th>\n",
              "      <th>saddr_category_3</th>\n",
              "      <th>sport_category_3</th>\n",
              "      <th>daddr_category_3</th>\n",
              "      <th>dport_category_3</th>\n",
              "      <th>proto_category_4</th>\n",
              "      <th>saddr_category_4</th>\n",
              "      <th>sport_category_4</th>\n",
              "      <th>daddr_category_4</th>\n",
              "      <th>dport_category_4</th>\n",
              "      <th>proto_category_5</th>\n",
              "      <th>saddr_category_5</th>\n",
              "      <th>sport_category_5</th>\n",
              "      <th>daddr_category_5</th>\n",
              "      <th>dport_category_5</th>\n",
              "      <th>category</th>\n",
              "    </tr>\n",
              "  </thead>\n",
              "  <tbody>\n",
              "    <tr>\n",
              "      <th>0</th>\n",
              "      <td>175094</td>\n",
              "      <td>0.226784</td>\n",
              "      <td>100</td>\n",
              "      <td>4.100436</td>\n",
              "      <td>4</td>\n",
              "      <td>4.457383</td>\n",
              "      <td>100</td>\n",
              "      <td>0.000000</td>\n",
              "      <td>0.404711</td>\n",
              "      <td>4.719438</td>\n",
              "      <td>0.517034</td>\n",
              "      <td>0.462725</td>\n",
              "      <td>0.352941</td>\n",
              "      <td>0.173510</td>\n",
              "      <td>0.461713</td>\n",
              "      <td>0.475314</td>\n",
              "      <td>0.512719</td>\n",
              "      <td>0.647059</td>\n",
              "      <td>0.809391</td>\n",
              "      <td>0.538059</td>\n",
              "      <td>0.007437</td>\n",
              "      <td>0.024460</td>\n",
              "      <td>2.785828e-09</td>\n",
              "      <td>0.017080</td>\n",
              "      <td>0.000217</td>\n",
              "      <td>0.000215</td>\n",
              "      <td>0.000067</td>\n",
              "      <td>1.641159e-11</td>\n",
              "      <td>0.000008</td>\n",
              "      <td>0.000011</td>\n",
              "      <td>0.000000</td>\n",
              "      <td>0.000028</td>\n",
              "      <td>2.147310e-12</td>\n",
              "      <td>0.000011</td>\n",
              "      <td>0.0</td>\n",
              "      <td>1</td>\n",
              "    </tr>\n",
              "    <tr>\n",
              "      <th>1</th>\n",
              "      <td>143024</td>\n",
              "      <td>0.451998</td>\n",
              "      <td>100</td>\n",
              "      <td>3.439257</td>\n",
              "      <td>1</td>\n",
              "      <td>3.806172</td>\n",
              "      <td>100</td>\n",
              "      <td>0.225077</td>\n",
              "      <td>0.401397</td>\n",
              "      <td>4.442930</td>\n",
              "      <td>0.371697</td>\n",
              "      <td>0.442030</td>\n",
              "      <td>0.624840</td>\n",
              "      <td>0.173510</td>\n",
              "      <td>0.461713</td>\n",
              "      <td>0.588028</td>\n",
              "      <td>0.535132</td>\n",
              "      <td>0.375137</td>\n",
              "      <td>0.809391</td>\n",
              "      <td>0.538059</td>\n",
              "      <td>0.040206</td>\n",
              "      <td>0.022773</td>\n",
              "      <td>2.255324e-05</td>\n",
              "      <td>0.017080</td>\n",
              "      <td>0.000217</td>\n",
              "      <td>0.000030</td>\n",
              "      <td>0.000065</td>\n",
              "      <td>1.328633e-07</td>\n",
              "      <td>0.000008</td>\n",
              "      <td>0.000011</td>\n",
              "      <td>0.000039</td>\n",
              "      <td>0.000000</td>\n",
              "      <td>1.738399e-08</td>\n",
              "      <td>0.000011</td>\n",
              "      <td>0.0</td>\n",
              "      <td>0</td>\n",
              "    </tr>\n",
              "    <tr>\n",
              "      <th>2</th>\n",
              "      <td>167033</td>\n",
              "      <td>1.931553</td>\n",
              "      <td>73</td>\n",
              "      <td>0.000000</td>\n",
              "      <td>4</td>\n",
              "      <td>2.731204</td>\n",
              "      <td>100</td>\n",
              "      <td>0.000000</td>\n",
              "      <td>0.407287</td>\n",
              "      <td>4.138455</td>\n",
              "      <td>0.517034</td>\n",
              "      <td>0.471855</td>\n",
              "      <td>0.499994</td>\n",
              "      <td>0.173510</td>\n",
              "      <td>0.461713</td>\n",
              "      <td>0.475314</td>\n",
              "      <td>0.507779</td>\n",
              "      <td>0.500003</td>\n",
              "      <td>0.809391</td>\n",
              "      <td>0.538059</td>\n",
              "      <td>0.007437</td>\n",
              "      <td>0.020299</td>\n",
              "      <td>3.054655e-06</td>\n",
              "      <td>0.017080</td>\n",
              "      <td>0.000217</td>\n",
              "      <td>0.000215</td>\n",
              "      <td>0.000067</td>\n",
              "      <td>1.799527e-08</td>\n",
              "      <td>0.000008</td>\n",
              "      <td>0.000011</td>\n",
              "      <td>0.000000</td>\n",
              "      <td>0.000000</td>\n",
              "      <td>2.354521e-09</td>\n",
              "      <td>0.000011</td>\n",
              "      <td>0.0</td>\n",
              "      <td>0</td>\n",
              "    </tr>\n",
              "    <tr>\n",
              "      <th>3</th>\n",
              "      <td>204615</td>\n",
              "      <td>0.428798</td>\n",
              "      <td>56</td>\n",
              "      <td>3.271411</td>\n",
              "      <td>1</td>\n",
              "      <td>3.626428</td>\n",
              "      <td>100</td>\n",
              "      <td>0.000000</td>\n",
              "      <td>0.343654</td>\n",
              "      <td>4.229700</td>\n",
              "      <td>0.371697</td>\n",
              "      <td>0.442030</td>\n",
              "      <td>0.352941</td>\n",
              "      <td>0.173510</td>\n",
              "      <td>0.461713</td>\n",
              "      <td>0.588028</td>\n",
              "      <td>0.535132</td>\n",
              "      <td>0.588235</td>\n",
              "      <td>0.809391</td>\n",
              "      <td>0.538059</td>\n",
              "      <td>0.040206</td>\n",
              "      <td>0.022773</td>\n",
              "      <td>5.882353e-02</td>\n",
              "      <td>0.017080</td>\n",
              "      <td>0.000217</td>\n",
              "      <td>0.000030</td>\n",
              "      <td>0.000065</td>\n",
              "      <td>1.641159e-11</td>\n",
              "      <td>0.000008</td>\n",
              "      <td>0.000011</td>\n",
              "      <td>0.000039</td>\n",
              "      <td>0.000000</td>\n",
              "      <td>2.147310e-12</td>\n",
              "      <td>0.000011</td>\n",
              "      <td>0.0</td>\n",
              "      <td>0</td>\n",
              "    </tr>\n",
              "    <tr>\n",
              "      <th>4</th>\n",
              "      <td>40058</td>\n",
              "      <td>2.058381</td>\n",
              "      <td>100</td>\n",
              "      <td>0.000000</td>\n",
              "      <td>3</td>\n",
              "      <td>1.188407</td>\n",
              "      <td>100</td>\n",
              "      <td>0.000000</td>\n",
              "      <td>0.135842</td>\n",
              "      <td>4.753628</td>\n",
              "      <td>0.371697</td>\n",
              "      <td>0.471855</td>\n",
              "      <td>0.333335</td>\n",
              "      <td>0.930698</td>\n",
              "      <td>0.461713</td>\n",
              "      <td>0.588028</td>\n",
              "      <td>0.507779</td>\n",
              "      <td>0.666664</td>\n",
              "      <td>0.000000</td>\n",
              "      <td>0.538059</td>\n",
              "      <td>0.040206</td>\n",
              "      <td>0.020299</td>\n",
              "      <td>4.134467e-07</td>\n",
              "      <td>0.069225</td>\n",
              "      <td>0.000217</td>\n",
              "      <td>0.000030</td>\n",
              "      <td>0.000067</td>\n",
              "      <td>2.435655e-09</td>\n",
              "      <td>0.000077</td>\n",
              "      <td>0.000011</td>\n",
              "      <td>0.000039</td>\n",
              "      <td>0.000000</td>\n",
              "      <td>3.186838e-10</td>\n",
              "      <td>0.000000</td>\n",
              "      <td>0.0</td>\n",
              "      <td>1</td>\n",
              "    </tr>\n",
              "    <tr>\n",
              "      <th>...</th>\n",
              "      <td>...</td>\n",
              "      <td>...</td>\n",
              "      <td>...</td>\n",
              "      <td>...</td>\n",
              "      <td>...</td>\n",
              "      <td>...</td>\n",
              "      <td>...</td>\n",
              "      <td>...</td>\n",
              "      <td>...</td>\n",
              "      <td>...</td>\n",
              "      <td>...</td>\n",
              "      <td>...</td>\n",
              "      <td>...</td>\n",
              "      <td>...</td>\n",
              "      <td>...</td>\n",
              "      <td>...</td>\n",
              "      <td>...</td>\n",
              "      <td>...</td>\n",
              "      <td>...</td>\n",
              "      <td>...</td>\n",
              "      <td>...</td>\n",
              "      <td>...</td>\n",
              "      <td>...</td>\n",
              "      <td>...</td>\n",
              "      <td>...</td>\n",
              "      <td>...</td>\n",
              "      <td>...</td>\n",
              "      <td>...</td>\n",
              "      <td>...</td>\n",
              "      <td>...</td>\n",
              "      <td>...</td>\n",
              "      <td>...</td>\n",
              "      <td>...</td>\n",
              "      <td>...</td>\n",
              "      <td>...</td>\n",
              "      <td>...</td>\n",
              "    </tr>\n",
              "    <tr>\n",
              "      <th>733700</th>\n",
              "      <td>168162</td>\n",
              "      <td>1.743940</td>\n",
              "      <td>39</td>\n",
              "      <td>0.000000</td>\n",
              "      <td>4</td>\n",
              "      <td>3.020449</td>\n",
              "      <td>39</td>\n",
              "      <td>0.000000</td>\n",
              "      <td>0.224603</td>\n",
              "      <td>4.043432</td>\n",
              "      <td>0.517034</td>\n",
              "      <td>0.442030</td>\n",
              "      <td>0.437500</td>\n",
              "      <td>0.988210</td>\n",
              "      <td>0.461713</td>\n",
              "      <td>0.475314</td>\n",
              "      <td>0.535132</td>\n",
              "      <td>0.562500</td>\n",
              "      <td>0.000000</td>\n",
              "      <td>0.538059</td>\n",
              "      <td>0.007437</td>\n",
              "      <td>0.022773</td>\n",
              "      <td>7.572665e-09</td>\n",
              "      <td>0.011790</td>\n",
              "      <td>0.000217</td>\n",
              "      <td>0.000215</td>\n",
              "      <td>0.000065</td>\n",
              "      <td>4.461131e-11</td>\n",
              "      <td>0.000000</td>\n",
              "      <td>0.000011</td>\n",
              "      <td>0.000000</td>\n",
              "      <td>0.000000</td>\n",
              "      <td>5.836993e-12</td>\n",
              "      <td>0.000000</td>\n",
              "      <td>0.0</td>\n",
              "      <td>1</td>\n",
              "    </tr>\n",
              "    <tr>\n",
              "      <th>733701</th>\n",
              "      <td>158482</td>\n",
              "      <td>0.694618</td>\n",
              "      <td>65</td>\n",
              "      <td>3.002272</td>\n",
              "      <td>4</td>\n",
              "      <td>3.905409</td>\n",
              "      <td>100</td>\n",
              "      <td>0.000000</td>\n",
              "      <td>0.875121</td>\n",
              "      <td>4.691634</td>\n",
              "      <td>0.517034</td>\n",
              "      <td>0.431057</td>\n",
              "      <td>0.333335</td>\n",
              "      <td>0.173510</td>\n",
              "      <td>0.461713</td>\n",
              "      <td>0.475314</td>\n",
              "      <td>0.547414</td>\n",
              "      <td>0.666664</td>\n",
              "      <td>0.809391</td>\n",
              "      <td>0.538059</td>\n",
              "      <td>0.007437</td>\n",
              "      <td>0.021471</td>\n",
              "      <td>4.134467e-07</td>\n",
              "      <td>0.017080</td>\n",
              "      <td>0.000217</td>\n",
              "      <td>0.000215</td>\n",
              "      <td>0.000058</td>\n",
              "      <td>2.435655e-09</td>\n",
              "      <td>0.000008</td>\n",
              "      <td>0.000011</td>\n",
              "      <td>0.000000</td>\n",
              "      <td>0.000000</td>\n",
              "      <td>3.186838e-10</td>\n",
              "      <td>0.000011</td>\n",
              "      <td>0.0</td>\n",
              "      <td>0</td>\n",
              "    </tr>\n",
              "    <tr>\n",
              "      <th>733702</th>\n",
              "      <td>79841</td>\n",
              "      <td>1.744651</td>\n",
              "      <td>53</td>\n",
              "      <td>0.000000</td>\n",
              "      <td>1</td>\n",
              "      <td>2.464288</td>\n",
              "      <td>100</td>\n",
              "      <td>0.278496</td>\n",
              "      <td>0.472773</td>\n",
              "      <td>3.802142</td>\n",
              "      <td>0.371697</td>\n",
              "      <td>0.471855</td>\n",
              "      <td>0.411765</td>\n",
              "      <td>0.173510</td>\n",
              "      <td>0.461713</td>\n",
              "      <td>0.588028</td>\n",
              "      <td>0.507779</td>\n",
              "      <td>0.529412</td>\n",
              "      <td>0.809391</td>\n",
              "      <td>0.538059</td>\n",
              "      <td>0.040206</td>\n",
              "      <td>0.020299</td>\n",
              "      <td>5.882353e-02</td>\n",
              "      <td>0.017080</td>\n",
              "      <td>0.000217</td>\n",
              "      <td>0.000030</td>\n",
              "      <td>0.000067</td>\n",
              "      <td>1.641159e-11</td>\n",
              "      <td>0.000008</td>\n",
              "      <td>0.000011</td>\n",
              "      <td>0.000039</td>\n",
              "      <td>0.000000</td>\n",
              "      <td>2.147310e-12</td>\n",
              "      <td>0.000011</td>\n",
              "      <td>0.0</td>\n",
              "      <td>0</td>\n",
              "    </tr>\n",
              "    <tr>\n",
              "      <th>733703</th>\n",
              "      <td>63165</td>\n",
              "      <td>0.000000</td>\n",
              "      <td>100</td>\n",
              "      <td>0.000000</td>\n",
              "      <td>3</td>\n",
              "      <td>0.000000</td>\n",
              "      <td>100</td>\n",
              "      <td>0.000000</td>\n",
              "      <td>0.070461</td>\n",
              "      <td>0.000000</td>\n",
              "      <td>0.371697</td>\n",
              "      <td>0.431057</td>\n",
              "      <td>0.500000</td>\n",
              "      <td>0.989069</td>\n",
              "      <td>0.461713</td>\n",
              "      <td>0.588028</td>\n",
              "      <td>0.547414</td>\n",
              "      <td>0.500000</td>\n",
              "      <td>0.000000</td>\n",
              "      <td>0.538059</td>\n",
              "      <td>0.040206</td>\n",
              "      <td>0.021471</td>\n",
              "      <td>5.595474e-08</td>\n",
              "      <td>0.010919</td>\n",
              "      <td>0.000217</td>\n",
              "      <td>0.000030</td>\n",
              "      <td>0.000058</td>\n",
              "      <td>3.296348e-10</td>\n",
              "      <td>0.000012</td>\n",
              "      <td>0.000011</td>\n",
              "      <td>0.000039</td>\n",
              "      <td>0.000000</td>\n",
              "      <td>4.312979e-11</td>\n",
              "      <td>0.000000</td>\n",
              "      <td>0.0</td>\n",
              "      <td>1</td>\n",
              "    </tr>\n",
              "    <tr>\n",
              "      <th>733704</th>\n",
              "      <td>139733</td>\n",
              "      <td>0.091420</td>\n",
              "      <td>65</td>\n",
              "      <td>0.000000</td>\n",
              "      <td>3</td>\n",
              "      <td>0.052781</td>\n",
              "      <td>100</td>\n",
              "      <td>0.000000</td>\n",
              "      <td>0.093828</td>\n",
              "      <td>0.211125</td>\n",
              "      <td>0.371697</td>\n",
              "      <td>0.431057</td>\n",
              "      <td>0.375068</td>\n",
              "      <td>0.173510</td>\n",
              "      <td>0.461713</td>\n",
              "      <td>0.588028</td>\n",
              "      <td>0.547414</td>\n",
              "      <td>0.624909</td>\n",
              "      <td>0.809391</td>\n",
              "      <td>0.538059</td>\n",
              "      <td>0.040206</td>\n",
              "      <td>0.021471</td>\n",
              "      <td>2.255324e-05</td>\n",
              "      <td>0.017080</td>\n",
              "      <td>0.000217</td>\n",
              "      <td>0.000030</td>\n",
              "      <td>0.000058</td>\n",
              "      <td>1.328633e-07</td>\n",
              "      <td>0.000008</td>\n",
              "      <td>0.000011</td>\n",
              "      <td>0.000039</td>\n",
              "      <td>0.000000</td>\n",
              "      <td>1.738399e-08</td>\n",
              "      <td>0.000011</td>\n",
              "      <td>0.0</td>\n",
              "      <td>0</td>\n",
              "    </tr>\n",
              "  </tbody>\n",
              "</table>\n",
              "<p>733705 rows × 36 columns</p>\n",
              "</div>"
            ],
            "text/plain": [
              "           seq    stddev  ...  dport_category_5  category\n",
              "0       175094  0.226784  ...               0.0         1\n",
              "1       143024  0.451998  ...               0.0         0\n",
              "2       167033  1.931553  ...               0.0         0\n",
              "3       204615  0.428798  ...               0.0         0\n",
              "4        40058  2.058381  ...               0.0         1\n",
              "...        ...       ...  ...               ...       ...\n",
              "733700  168162  1.743940  ...               0.0         1\n",
              "733701  158482  0.694618  ...               0.0         0\n",
              "733702   79841  1.744651  ...               0.0         0\n",
              "733703   63165  0.000000  ...               0.0         1\n",
              "733704  139733  0.091420  ...               0.0         0\n",
              "\n",
              "[733705 rows x 36 columns]"
            ]
          },
          "metadata": {
            "tags": []
          },
          "execution_count": 20
        }
      ]
    },
    {
      "cell_type": "markdown",
      "metadata": {
        "id": "NYMTZU76QwrG"
      },
      "source": [
        "# MODEL BUILDING"
      ]
    },
    {
      "cell_type": "markdown",
      "metadata": {
        "id": "Y_1RrTl8QwrG"
      },
      "source": [
        "#  MULTINOMIAL LOGISTIC REGRESSION"
      ]
    },
    {
      "cell_type": "code",
      "metadata": {
        "id": "eefJeNKu6To3"
      },
      "source": [
        ""
      ],
      "execution_count": null,
      "outputs": []
    },
    {
      "cell_type": "code",
      "metadata": {
        "execution": {
          "iopub.status.busy": "2021-07-11T17:53:52.165673Z",
          "iopub.execute_input": "2021-07-11T17:53:52.166444Z",
          "iopub.status.idle": "2021-07-11T17:53:53.235806Z",
          "shell.execute_reply.started": "2021-07-11T17:53:52.166408Z",
          "shell.execute_reply": "2021-07-11T17:53:53.234144Z"
        },
        "trusted": true,
        "id": "1DQUmPY8QwrG"
      },
      "source": [
        "from sklearn.linear_model import LogisticRegression\n",
        "from sklearn import metrics\n",
        "from sklearn.metrics import accuracy_score\n",
        "from sklearn.metrics import confusion_matrix\n",
        "\n",
        "\n",
        "X_train = df_train_final.iloc[:,:-1]\n",
        "y_train = df_train_final['category']\n",
        "X_test =  df_test_final.iloc[:,:-1]\n",
        "y_test =  df_test_final['category']\n"
      ],
      "execution_count": null,
      "outputs": []
    },
    {
      "cell_type": "code",
      "metadata": {
        "id": "HAVrEDd5Ktsz"
      },
      "source": [
        "from sklearn.preprocessing import StandardScaler\n",
        "\n",
        "X_train = pd.DataFrame(StandardScaler().fit_transform(X_train))\n",
        "X_test = pd.DataFrame(StandardScaler().fit_transform(X_test))\n"
      ],
      "execution_count": null,
      "outputs": []
    },
    {
      "cell_type": "code",
      "metadata": {
        "id": "9p_6YLrgELJQ"
      },
      "source": [
        "from sklearn.decomposition import PCA\n",
        "pca = PCA(n_components=2).fit(X_train)\n",
        "\n",
        "X_train = pd.DataFrame(pca.transform(X_train),columns=(\"1st_principal_component\",\"2nd_principal component\"))\n",
        "X_test = pd.DataFrame(pca.transform(X_test),columns=(\"1st_principal_component\",\"2nd_principal component\"))\n"
      ],
      "execution_count": null,
      "outputs": []
    },
    {
      "cell_type": "code",
      "metadata": {
        "colab": {
          "base_uri": "https://localhost:8080/"
        },
        "id": "lFI55btJ5wkk",
        "outputId": "b196c9a0-8ce5-4893-9927-0ec7e3ca3455"
      },
      "source": [
        "print(y_train.head())\n",
        "print(y_test.head())"
      ],
      "execution_count": null,
      "outputs": [
        {
          "output_type": "stream",
          "text": [
            "0    0\n",
            "1    0\n",
            "2    0\n",
            "3    1\n",
            "4    0\n",
            "Name: category, dtype: int64\n",
            "0    1\n",
            "1    0\n",
            "2    0\n",
            "3    0\n",
            "4    1\n",
            "Name: category, dtype: int64\n"
          ],
          "name": "stdout"
        }
      ]
    },
    {
      "cell_type": "code",
      "metadata": {
        "id": "mLHnxbN03WRV"
      },
      "source": [
        "df_train_copy=pd.read_csv(r\"/content/drive/MyDrive/iot_botnet_dataset/UNSW_2018_IoT_Botnet_Final_10_best_Training.csv\")\n",
        "df_test_copy=pd.read_csv(r\"/content/drive/MyDrive/iot_botnet_dataset/features_having_most_influence_on_Botnet_IoT.csv\")"
      ],
      "execution_count": null,
      "outputs": []
    },
    {
      "cell_type": "code",
      "metadata": {
        "colab": {
          "base_uri": "https://localhost:8080/"
        },
        "id": "r7pe27E45Cd4",
        "outputId": "da43f1e8-e71e-4eaa-a92f-f4254aa73e10"
      },
      "source": [
        "X_train['category']=df_train_copy['category']\n",
        "X_test['category']=df_test_copy['category']\n",
        "print(X_train)\n",
        "print(X_test)"
      ],
      "execution_count": null,
      "outputs": [
        {
          "output_type": "stream",
          "text": [
            "         1st_principal_component  2nd_principal component category\n",
            "0                      -1.174980                 1.294078     DDoS\n",
            "1                      -0.460244                 0.048380     DDoS\n",
            "2                      -0.313739                -0.342253     DDoS\n",
            "3                      -0.831065                 1.669057      DoS\n",
            "4                      -1.294374                 1.822995     DDoS\n",
            "...                          ...                      ...      ...\n",
            "2934812                -0.970750                 1.814066      DoS\n",
            "2934813                -1.156034                 1.318500     DDoS\n",
            "2934814                -0.704360                 1.351833      DoS\n",
            "2934815                 0.458182                -2.442754      DoS\n",
            "2934816                 0.681457                -2.742826      DoS\n",
            "\n",
            "[2934817 rows x 3 columns]\n",
            "        1st_principal_component  2nd_principal component category\n",
            "0                     -0.856517                 0.643669      DoS\n",
            "1                     -0.698244                 0.905074     DDoS\n",
            "2                     -0.590298                -0.020909     DDoS\n",
            "3                     -0.383677                 0.743312     DDoS\n",
            "4                     -0.324628                 1.156467      DoS\n",
            "...                         ...                      ...      ...\n",
            "733700                -0.397880                 0.206128      DoS\n",
            "733701                -0.829269                 0.361633     DDoS\n",
            "733702                -0.026075                 0.281228     DDoS\n",
            "733703                 0.057538                -0.857376      DoS\n",
            "733704                 0.184265                -0.852771     DDoS\n",
            "\n",
            "[733705 rows x 3 columns]\n"
          ],
          "name": "stdout"
        }
      ]
    },
    {
      "cell_type": "code",
      "metadata": {
        "colab": {
          "base_uri": "https://localhost:8080/",
          "height": 953
        },
        "id": "OdYb8asYsNT5",
        "outputId": "60f5601a-fdf4-4c3d-ac9d-facee211272a"
      },
      "source": [
        "palette = {\"DDoS\":\"tab:Blue\",\n",
        "           \"DoS\":\"tab:orange\", \n",
        "           \"Reconnaissance\":\"tab:green\",\n",
        "           \"Normal\":\"tab:red\",\n",
        "           \"Theft\":\"tab:purple\"}\n",
        "sns.FacetGrid(X_train,hue='category',size=6,palette=palette).map(plt.scatter,'1st_principal_component','2nd_principal component').add_legend()\n",
        "sns.FacetGrid(X_test,hue='category',size=6,palette=palette).map(plt.scatter,'1st_principal_component','2nd_principal component').add_legend()\n"
      ],
      "execution_count": null,
      "outputs": [
        {
          "output_type": "stream",
          "text": [
            "/usr/local/lib/python3.7/dist-packages/seaborn/axisgrid.py:316: UserWarning: The `size` parameter has been renamed to `height`; please update your code.\n",
            "  warnings.warn(msg, UserWarning)\n",
            "/usr/local/lib/python3.7/dist-packages/seaborn/axisgrid.py:316: UserWarning: The `size` parameter has been renamed to `height`; please update your code.\n",
            "  warnings.warn(msg, UserWarning)\n"
          ],
          "name": "stderr"
        },
        {
          "output_type": "execute_result",
          "data": {
            "text/plain": [
              "<seaborn.axisgrid.FacetGrid at 0x7f2e68e01a90>"
            ]
          },
          "metadata": {
            "tags": []
          },
          "execution_count": 57
        },
        {
          "output_type": "display_data",
          "data": {
            "image/png": "[encoded data removed]",
            "text/plain": [
              "<Figure size 548.375x432 with 1 Axes>"
            ]
          },
          "metadata": {
            "tags": [],
            "needs_background": "light"
          }
        },
        {
          "output_type": "display_data",
          "data": {
            "image/png": "[encoded data removed]",
            "text/plain": [
              "<Figure size 548.375x432 with 1 Axes>"
            ]
          },
          "metadata": {
            "tags": [],
            "needs_background": "light"
          }
        }
      ]
    },
    {
      "cell_type": "code",
      "metadata": {
        "colab": {
          "base_uri": "https://localhost:8080/",
          "height": 340
        },
        "id": "0usyMoD5C3os",
        "outputId": "7cb131e5-602e-4227-e9ec-935a3e3010ac"
      },
      "source": [
        "from sklearn import linear_model\n",
        "\n",
        "\n",
        "SGDClf = linear_model.SGDClassifier(max_iter=10000,class_weight=\"balanced\",n_jobs=-1,penalty=\"elasticnet\").fit(X_train,y_train)\n"
      ],
      "execution_count": null,
      "outputs": [
        {
          "output_type": "error",
          "ename": "KeyboardInterrupt",
          "evalue": "ignored",
          "traceback": [
            "\u001b[0;31m---------------------------------------------------------------------------\u001b[0m",
            "\u001b[0;31mKeyboardInterrupt\u001b[0m                         Traceback (most recent call last)",
            "\u001b[0;32m<ipython-input-26-a99e454a0a74>\u001b[0m in \u001b[0;36m<module>\u001b[0;34m()\u001b[0m\n\u001b[1;32m      2\u001b[0m \u001b[0;34m\u001b[0m\u001b[0m\n\u001b[1;32m      3\u001b[0m \u001b[0;34m\u001b[0m\u001b[0m\n\u001b[0;32m----> 4\u001b[0;31m \u001b[0mSGDClf\u001b[0m \u001b[0;34m=\u001b[0m \u001b[0mlinear_model\u001b[0m\u001b[0;34m.\u001b[0m\u001b[0mSGDClassifier\u001b[0m\u001b[0;34m(\u001b[0m\u001b[0mmax_iter\u001b[0m\u001b[0;34m=\u001b[0m\u001b[0;36m10000\u001b[0m\u001b[0;34m,\u001b[0m\u001b[0mclass_weight\u001b[0m\u001b[0;34m=\u001b[0m\u001b[0;34m\"balanced\"\u001b[0m\u001b[0;34m,\u001b[0m\u001b[0mn_jobs\u001b[0m\u001b[0;34m=\u001b[0m\u001b[0;34m-\u001b[0m\u001b[0;36m1\u001b[0m\u001b[0;34m,\u001b[0m\u001b[0mpenalty\u001b[0m\u001b[0;34m=\u001b[0m\u001b[0;34m\"elasticnet\"\u001b[0m\u001b[0;34m)\u001b[0m\u001b[0;34m.\u001b[0m\u001b[0mfit\u001b[0m\u001b[0;34m(\u001b[0m\u001b[0mX_train\u001b[0m\u001b[0;34m,\u001b[0m\u001b[0my_train\u001b[0m\u001b[0;34m)\u001b[0m\u001b[0;34m\u001b[0m\u001b[0;34m\u001b[0m\u001b[0m\n\u001b[0m",
            "\u001b[0;32m/usr/local/lib/python3.7/dist-packages/sklearn/linear_model/_stochastic_gradient.py\u001b[0m in \u001b[0;36mfit\u001b[0;34m(self, X, y, coef_init, intercept_init, sample_weight)\u001b[0m\n\u001b[1;32m    709\u001b[0m                          \u001b[0mloss\u001b[0m\u001b[0;34m=\u001b[0m\u001b[0mself\u001b[0m\u001b[0;34m.\u001b[0m\u001b[0mloss\u001b[0m\u001b[0;34m,\u001b[0m \u001b[0mlearning_rate\u001b[0m\u001b[0;34m=\u001b[0m\u001b[0mself\u001b[0m\u001b[0;34m.\u001b[0m\u001b[0mlearning_rate\u001b[0m\u001b[0;34m,\u001b[0m\u001b[0;34m\u001b[0m\u001b[0;34m\u001b[0m\u001b[0m\n\u001b[1;32m    710\u001b[0m                          \u001b[0mcoef_init\u001b[0m\u001b[0;34m=\u001b[0m\u001b[0mcoef_init\u001b[0m\u001b[0;34m,\u001b[0m \u001b[0mintercept_init\u001b[0m\u001b[0;34m=\u001b[0m\u001b[0mintercept_init\u001b[0m\u001b[0;34m,\u001b[0m\u001b[0;34m\u001b[0m\u001b[0;34m\u001b[0m\u001b[0m\n\u001b[0;32m--> 711\u001b[0;31m                          sample_weight=sample_weight)\n\u001b[0m\u001b[1;32m    712\u001b[0m \u001b[0;34m\u001b[0m\u001b[0m\n\u001b[1;32m    713\u001b[0m \u001b[0;34m\u001b[0m\u001b[0m\n",
            "\u001b[0;32m/usr/local/lib/python3.7/dist-packages/sklearn/linear_model/_stochastic_gradient.py\u001b[0m in \u001b[0;36m_fit\u001b[0;34m(self, X, y, alpha, C, loss, learning_rate, coef_init, intercept_init, sample_weight)\u001b[0m\n\u001b[1;32m    548\u001b[0m \u001b[0;34m\u001b[0m\u001b[0m\n\u001b[1;32m    549\u001b[0m         self._partial_fit(X, y, alpha, C, loss, learning_rate, self.max_iter,\n\u001b[0;32m--> 550\u001b[0;31m                           classes, sample_weight, coef_init, intercept_init)\n\u001b[0m\u001b[1;32m    551\u001b[0m \u001b[0;34m\u001b[0m\u001b[0m\n\u001b[1;32m    552\u001b[0m         if (self.tol is not None and self.tol > -np.inf\n",
            "\u001b[0;32m/usr/local/lib/python3.7/dist-packages/sklearn/linear_model/_stochastic_gradient.py\u001b[0m in \u001b[0;36m_partial_fit\u001b[0;34m(self, X, y, alpha, C, loss, learning_rate, max_iter, classes, sample_weight, coef_init, intercept_init)\u001b[0m\n\u001b[1;32m    503\u001b[0m                                  \u001b[0mlearning_rate\u001b[0m\u001b[0;34m=\u001b[0m\u001b[0mlearning_rate\u001b[0m\u001b[0;34m,\u001b[0m\u001b[0;34m\u001b[0m\u001b[0;34m\u001b[0m\u001b[0m\n\u001b[1;32m    504\u001b[0m                                  \u001b[0msample_weight\u001b[0m\u001b[0;34m=\u001b[0m\u001b[0msample_weight\u001b[0m\u001b[0;34m,\u001b[0m\u001b[0;34m\u001b[0m\u001b[0;34m\u001b[0m\u001b[0m\n\u001b[0;32m--> 505\u001b[0;31m                                  max_iter=max_iter)\n\u001b[0m\u001b[1;32m    506\u001b[0m         \u001b[0;32melif\u001b[0m \u001b[0mn_classes\u001b[0m \u001b[0;34m==\u001b[0m \u001b[0;36m2\u001b[0m\u001b[0;34m:\u001b[0m\u001b[0;34m\u001b[0m\u001b[0;34m\u001b[0m\u001b[0m\n\u001b[1;32m    507\u001b[0m             self._fit_binary(X, y, alpha=alpha, C=C,\n",
            "\u001b[0;32m/usr/local/lib/python3.7/dist-packages/sklearn/linear_model/_stochastic_gradient.py\u001b[0m in \u001b[0;36m_fit_multiclass\u001b[0;34m(self, X, y, alpha, C, learning_rate, sample_weight, max_iter)\u001b[0m\n\u001b[1;32m    609\u001b[0m                                 \u001b[0mvalidation_mask\u001b[0m\u001b[0;34m=\u001b[0m\u001b[0mvalidation_mask\u001b[0m\u001b[0;34m,\u001b[0m\u001b[0;34m\u001b[0m\u001b[0;34m\u001b[0m\u001b[0m\n\u001b[1;32m    610\u001b[0m                                 random_state=seed)\n\u001b[0;32m--> 611\u001b[0;31m             for i, seed in enumerate(seeds))\n\u001b[0m\u001b[1;32m    612\u001b[0m \u001b[0;34m\u001b[0m\u001b[0m\n\u001b[1;32m    613\u001b[0m         \u001b[0;31m# take the maximum of n_iter_ over every binary fit\u001b[0m\u001b[0;34m\u001b[0m\u001b[0;34m\u001b[0m\u001b[0;34m\u001b[0m\u001b[0m\n",
            "\u001b[0;32m/usr/local/lib/python3.7/dist-packages/joblib/parallel.py\u001b[0m in \u001b[0;36m__call__\u001b[0;34m(self, iterable)\u001b[0m\n\u001b[1;32m   1052\u001b[0m \u001b[0;34m\u001b[0m\u001b[0m\n\u001b[1;32m   1053\u001b[0m             \u001b[0;32mwith\u001b[0m \u001b[0mself\u001b[0m\u001b[0;34m.\u001b[0m\u001b[0m_backend\u001b[0m\u001b[0;34m.\u001b[0m\u001b[0mretrieval_context\u001b[0m\u001b[0;34m(\u001b[0m\u001b[0;34m)\u001b[0m\u001b[0;34m:\u001b[0m\u001b[0;34m\u001b[0m\u001b[0;34m\u001b[0m\u001b[0m\n\u001b[0;32m-> 1054\u001b[0;31m                 \u001b[0mself\u001b[0m\u001b[0;34m.\u001b[0m\u001b[0mretrieve\u001b[0m\u001b[0;34m(\u001b[0m\u001b[0;34m)\u001b[0m\u001b[0;34m\u001b[0m\u001b[0;34m\u001b[0m\u001b[0m\n\u001b[0m\u001b[1;32m   1055\u001b[0m             \u001b[0;31m# Make sure that we get a last message telling us we are done\u001b[0m\u001b[0;34m\u001b[0m\u001b[0;34m\u001b[0m\u001b[0;34m\u001b[0m\u001b[0m\n\u001b[1;32m   1056\u001b[0m             \u001b[0melapsed_time\u001b[0m \u001b[0;34m=\u001b[0m \u001b[0mtime\u001b[0m\u001b[0;34m.\u001b[0m\u001b[0mtime\u001b[0m\u001b[0;34m(\u001b[0m\u001b[0;34m)\u001b[0m \u001b[0;34m-\u001b[0m \u001b[0mself\u001b[0m\u001b[0;34m.\u001b[0m\u001b[0m_start_time\u001b[0m\u001b[0;34m\u001b[0m\u001b[0;34m\u001b[0m\u001b[0m\n",
            "\u001b[0;32m/usr/local/lib/python3.7/dist-packages/joblib/parallel.py\u001b[0m in \u001b[0;36mretrieve\u001b[0;34m(self)\u001b[0m\n\u001b[1;32m    931\u001b[0m             \u001b[0;32mtry\u001b[0m\u001b[0;34m:\u001b[0m\u001b[0;34m\u001b[0m\u001b[0;34m\u001b[0m\u001b[0m\n\u001b[1;32m    932\u001b[0m                 \u001b[0;32mif\u001b[0m \u001b[0mgetattr\u001b[0m\u001b[0;34m(\u001b[0m\u001b[0mself\u001b[0m\u001b[0;34m.\u001b[0m\u001b[0m_backend\u001b[0m\u001b[0;34m,\u001b[0m \u001b[0;34m'supports_timeout'\u001b[0m\u001b[0;34m,\u001b[0m \u001b[0;32mFalse\u001b[0m\u001b[0;34m)\u001b[0m\u001b[0;34m:\u001b[0m\u001b[0;34m\u001b[0m\u001b[0;34m\u001b[0m\u001b[0m\n\u001b[0;32m--> 933\u001b[0;31m                     \u001b[0mself\u001b[0m\u001b[0;34m.\u001b[0m\u001b[0m_output\u001b[0m\u001b[0;34m.\u001b[0m\u001b[0mextend\u001b[0m\u001b[0;34m(\u001b[0m\u001b[0mjob\u001b[0m\u001b[0;34m.\u001b[0m\u001b[0mget\u001b[0m\u001b[0;34m(\u001b[0m\u001b[0mtimeout\u001b[0m\u001b[0;34m=\u001b[0m\u001b[0mself\u001b[0m\u001b[0;34m.\u001b[0m\u001b[0mtimeout\u001b[0m\u001b[0;34m)\u001b[0m\u001b[0;34m)\u001b[0m\u001b[0;34m\u001b[0m\u001b[0;34m\u001b[0m\u001b[0m\n\u001b[0m\u001b[1;32m    934\u001b[0m                 \u001b[0;32melse\u001b[0m\u001b[0;34m:\u001b[0m\u001b[0;34m\u001b[0m\u001b[0;34m\u001b[0m\u001b[0m\n\u001b[1;32m    935\u001b[0m                     \u001b[0mself\u001b[0m\u001b[0;34m.\u001b[0m\u001b[0m_output\u001b[0m\u001b[0;34m.\u001b[0m\u001b[0mextend\u001b[0m\u001b[0;34m(\u001b[0m\u001b[0mjob\u001b[0m\u001b[0;34m.\u001b[0m\u001b[0mget\u001b[0m\u001b[0;34m(\u001b[0m\u001b[0;34m)\u001b[0m\u001b[0;34m)\u001b[0m\u001b[0;34m\u001b[0m\u001b[0;34m\u001b[0m\u001b[0m\n",
            "\u001b[0;32m/usr/lib/python3.7/multiprocessing/pool.py\u001b[0m in \u001b[0;36mget\u001b[0;34m(self, timeout)\u001b[0m\n\u001b[1;32m    649\u001b[0m \u001b[0;34m\u001b[0m\u001b[0m\n\u001b[1;32m    650\u001b[0m     \u001b[0;32mdef\u001b[0m \u001b[0mget\u001b[0m\u001b[0;34m(\u001b[0m\u001b[0mself\u001b[0m\u001b[0;34m,\u001b[0m \u001b[0mtimeout\u001b[0m\u001b[0;34m=\u001b[0m\u001b[0;32mNone\u001b[0m\u001b[0;34m)\u001b[0m\u001b[0;34m:\u001b[0m\u001b[0;34m\u001b[0m\u001b[0;34m\u001b[0m\u001b[0m\n\u001b[0;32m--> 651\u001b[0;31m         \u001b[0mself\u001b[0m\u001b[0;34m.\u001b[0m\u001b[0mwait\u001b[0m\u001b[0;34m(\u001b[0m\u001b[0mtimeout\u001b[0m\u001b[0;34m)\u001b[0m\u001b[0;34m\u001b[0m\u001b[0;34m\u001b[0m\u001b[0m\n\u001b[0m\u001b[1;32m    652\u001b[0m         \u001b[0;32mif\u001b[0m \u001b[0;32mnot\u001b[0m \u001b[0mself\u001b[0m\u001b[0;34m.\u001b[0m\u001b[0mready\u001b[0m\u001b[0;34m(\u001b[0m\u001b[0;34m)\u001b[0m\u001b[0;34m:\u001b[0m\u001b[0;34m\u001b[0m\u001b[0;34m\u001b[0m\u001b[0m\n\u001b[1;32m    653\u001b[0m             \u001b[0;32mraise\u001b[0m \u001b[0mTimeoutError\u001b[0m\u001b[0;34m\u001b[0m\u001b[0;34m\u001b[0m\u001b[0m\n",
            "\u001b[0;32m/usr/lib/python3.7/multiprocessing/pool.py\u001b[0m in \u001b[0;36mwait\u001b[0;34m(self, timeout)\u001b[0m\n\u001b[1;32m    646\u001b[0m \u001b[0;34m\u001b[0m\u001b[0m\n\u001b[1;32m    647\u001b[0m     \u001b[0;32mdef\u001b[0m \u001b[0mwait\u001b[0m\u001b[0;34m(\u001b[0m\u001b[0mself\u001b[0m\u001b[0;34m,\u001b[0m \u001b[0mtimeout\u001b[0m\u001b[0;34m=\u001b[0m\u001b[0;32mNone\u001b[0m\u001b[0;34m)\u001b[0m\u001b[0;34m:\u001b[0m\u001b[0;34m\u001b[0m\u001b[0;34m\u001b[0m\u001b[0m\n\u001b[0;32m--> 648\u001b[0;31m         \u001b[0mself\u001b[0m\u001b[0;34m.\u001b[0m\u001b[0m_event\u001b[0m\u001b[0;34m.\u001b[0m\u001b[0mwait\u001b[0m\u001b[0;34m(\u001b[0m\u001b[0mtimeout\u001b[0m\u001b[0;34m)\u001b[0m\u001b[0;34m\u001b[0m\u001b[0;34m\u001b[0m\u001b[0m\n\u001b[0m\u001b[1;32m    649\u001b[0m \u001b[0;34m\u001b[0m\u001b[0m\n\u001b[1;32m    650\u001b[0m     \u001b[0;32mdef\u001b[0m \u001b[0mget\u001b[0m\u001b[0;34m(\u001b[0m\u001b[0mself\u001b[0m\u001b[0;34m,\u001b[0m \u001b[0mtimeout\u001b[0m\u001b[0;34m=\u001b[0m\u001b[0;32mNone\u001b[0m\u001b[0;34m)\u001b[0m\u001b[0;34m:\u001b[0m\u001b[0;34m\u001b[0m\u001b[0;34m\u001b[0m\u001b[0m\n",
            "\u001b[0;32m/usr/lib/python3.7/threading.py\u001b[0m in \u001b[0;36mwait\u001b[0;34m(self, timeout)\u001b[0m\n\u001b[1;32m    550\u001b[0m             \u001b[0msignaled\u001b[0m \u001b[0;34m=\u001b[0m \u001b[0mself\u001b[0m\u001b[0;34m.\u001b[0m\u001b[0m_flag\u001b[0m\u001b[0;34m\u001b[0m\u001b[0;34m\u001b[0m\u001b[0m\n\u001b[1;32m    551\u001b[0m             \u001b[0;32mif\u001b[0m \u001b[0;32mnot\u001b[0m \u001b[0msignaled\u001b[0m\u001b[0;34m:\u001b[0m\u001b[0;34m\u001b[0m\u001b[0;34m\u001b[0m\u001b[0m\n\u001b[0;32m--> 552\u001b[0;31m                 \u001b[0msignaled\u001b[0m \u001b[0;34m=\u001b[0m \u001b[0mself\u001b[0m\u001b[0;34m.\u001b[0m\u001b[0m_cond\u001b[0m\u001b[0;34m.\u001b[0m\u001b[0mwait\u001b[0m\u001b[0;34m(\u001b[0m\u001b[0mtimeout\u001b[0m\u001b[0;34m)\u001b[0m\u001b[0;34m\u001b[0m\u001b[0;34m\u001b[0m\u001b[0m\n\u001b[0m\u001b[1;32m    553\u001b[0m             \u001b[0;32mreturn\u001b[0m \u001b[0msignaled\u001b[0m\u001b[0;34m\u001b[0m\u001b[0;34m\u001b[0m\u001b[0m\n\u001b[1;32m    554\u001b[0m \u001b[0;34m\u001b[0m\u001b[0m\n",
            "\u001b[0;32m/usr/lib/python3.7/threading.py\u001b[0m in \u001b[0;36mwait\u001b[0;34m(self, timeout)\u001b[0m\n\u001b[1;32m    294\u001b[0m         \u001b[0;32mtry\u001b[0m\u001b[0;34m:\u001b[0m    \u001b[0;31m# restore state no matter what (e.g., KeyboardInterrupt)\u001b[0m\u001b[0;34m\u001b[0m\u001b[0;34m\u001b[0m\u001b[0m\n\u001b[1;32m    295\u001b[0m             \u001b[0;32mif\u001b[0m \u001b[0mtimeout\u001b[0m \u001b[0;32mis\u001b[0m \u001b[0;32mNone\u001b[0m\u001b[0;34m:\u001b[0m\u001b[0;34m\u001b[0m\u001b[0;34m\u001b[0m\u001b[0m\n\u001b[0;32m--> 296\u001b[0;31m                 \u001b[0mwaiter\u001b[0m\u001b[0;34m.\u001b[0m\u001b[0macquire\u001b[0m\u001b[0;34m(\u001b[0m\u001b[0;34m)\u001b[0m\u001b[0;34m\u001b[0m\u001b[0;34m\u001b[0m\u001b[0m\n\u001b[0m\u001b[1;32m    297\u001b[0m                 \u001b[0mgotit\u001b[0m \u001b[0;34m=\u001b[0m \u001b[0;32mTrue\u001b[0m\u001b[0;34m\u001b[0m\u001b[0;34m\u001b[0m\u001b[0m\n\u001b[1;32m    298\u001b[0m             \u001b[0;32melse\u001b[0m\u001b[0;34m:\u001b[0m\u001b[0;34m\u001b[0m\u001b[0;34m\u001b[0m\u001b[0m\n",
            "\u001b[0;31mKeyboardInterrupt\u001b[0m: "
          ]
        }
      ]
    },
    {
      "cell_type": "code",
      "metadata": {
        "id": "QZwDIR_qFKe1"
      },
      "source": [
        "y_pred = SGDClf.predict(X_test)\n",
        "\n",
        "\n",
        "cm = confusion_matrix(y_test, y_pred)\n",
        "print(cm)"
      ],
      "execution_count": null,
      "outputs": []
    },
    {
      "cell_type": "code",
      "metadata": {
        "id": "M13_pc-ThqtN",
        "colab": {
          "base_uri": "https://localhost:8080/"
        },
        "outputId": "ed15641e-6d3f-4878-b431-09e4cc8e512e"
      },
      "source": [
        "# training a Naive Bayes classifier\n",
        "from sklearn.naive_bayes import GaussianNB\n",
        "gnb = GaussianNB().fit(X_train, y_train)\n",
        "gnb_predictions = gnb.predict(X_test)\n",
        "  \n",
        "# accuracy on X_test\n",
        "accuracy = gnb.score(X_test, y_test)\n",
        "print(accuracy)\n",
        "  \n",
        "# creating a confusion matrix\n",
        "cm = confusion_matrix(y_test, gnb_predictions)\n",
        "print(cm)"
      ],
      "execution_count": null,
      "outputs": [
        {
          "output_type": "stream",
          "text": [
            "0.6094370353207351\n",
            "[[293334  91178      1    796      0]\n",
            " [193460 136444      2    206      0]\n",
            " [     0      0      3    102      2]\n",
            " [    22    124    651  17366      0]\n",
            " [     0      0      6      8      0]]\n"
          ],
          "name": "stdout"
        }
      ]
    },
    {
      "cell_type": "code",
      "metadata": {
        "id": "4h3PlfMOjc9p"
      },
      "source": [
        "# training a DescisionTreeClassifier\n",
        "from sklearn.tree import DecisionTreeClassifier\n",
        "dtree_model = DecisionTreeClassifier(max_depth = 1000).fit(X_train, y_train)\n",
        "dtree_predictions = dtree_model.predict(X_test)\n",
        "  \n",
        "# creating a confusion matrix\n",
        "cm = confusion_matrix(y_test, dtree_predictions)"
      ],
      "execution_count": null,
      "outputs": []
    },
    {
      "cell_type": "code",
      "metadata": {
        "id": "KEnfjeYTjm_w"
      },
      "source": [
        "# training a linear SVM classifier\n",
        "from sklearn.svm import SVC\n",
        "svm_model_linear = SVC(kernel = 'linear', C = 1).fit(X_train, y_train)\n",
        "svm_predictions = svm_model_linear.predict(X_test)\n",
        "  \n",
        "# model accuracy for X_test  \n",
        "accuracy = svm_model_linear.score(X_test, y_test)"
      ],
      "execution_count": null,
      "outputs": []
    },
    {
      "cell_type": "code",
      "metadata": {
        "id": "X1JgVUMPOZDx"
      },
      "source": [
        "import matplotlib.pyplot as plt\n",
        "import pandas as pd\n",
        "from sklearn import datasets, neighbors\n",
        "from mlxtend.plotting import \n",
        "\n",
        "\n"
      ],
      "execution_count": null,
      "outputs": []
    },
    {
      "cell_type": "code",
      "metadata": {
        "id": "ZnrklAHBJNwi"
      },
      "source": [
        "from sklearn.neighbors import KNeighborsClassifier\n",
        "from sklearn import metrics\n",
        "#Train Model and Predict\n",
        "k = 5 \n",
        "neigh = KNeighborsClassifier(n_neighbors = k).fit(X_train,y_train)\n",
        "Pred_y = neigh.predict(X_test)\n",
        "print(\"Accuracy of model at K=\",i,\"is\",metrics.accuracy_score(y_test, Pred_y))"
      ],
      "execution_count": null,
      "outputs": []
    },
    {
      "cell_type": "code",
      "metadata": {
        "id": "H1tBj9SeOcGa"
      },
      "source": [
        "from sklearn.neighbors import KNeighborsClassifier\n",
        "from sklearn import metrics\n",
        "error_rate = []\n",
        "for i in range(2,11):\n",
        "  knn = KNeighborsClassifier(n_neighbors=i)\n",
        "  knn.fit(X_train,y_train)\n",
        "  pred_i = knn.predict(X_test)\n",
        "  print(\"Accuracy of model at K=\",i,\"is\",metrics.accuracy_score(y_test, pred_i))\n",
        "\n",
        "  "
      ],
      "execution_count": null,
      "outputs": []
    },
    {
      "cell_type": "code",
      "metadata": {
        "id": "Fz-2O8VDMQF1"
      },
      "source": [
        ""
      ],
      "execution_count": null,
      "outputs": []
    },
    {
      "cell_type": "code",
      "metadata": {
        "id": "o2IRIObH7Dqr"
      },
      "source": [
        "#NORMALISING DATA\n",
        "from sklearn.preprocessing import MinMaxScaler\n",
        "scaler = MinMaxScaler() \n",
        "X_train = pd.DataFrame(scaler.fit_transform(X_train))\n",
        "X_test =  pd.DataFrame(scaler.fit_transform(X_test))"
      ],
      "execution_count": null,
      "outputs": []
    },
    {
      "cell_type": "code",
      "metadata": {
        "execution": {
          "iopub.status.busy": "2021-07-11T16:47:12.67468Z",
          "iopub.execute_input": "2021-07-11T16:47:12.675116Z",
          "iopub.status.idle": "2021-07-11T16:47:12.680607Z",
          "shell.execute_reply.started": "2021-07-11T16:47:12.67508Z",
          "shell.execute_reply": "2021-07-11T16:47:12.679437Z"
        },
        "trusted": true,
        "id": "x6jFyte_QwrH"
      },
      "source": [
        "def buildModel (model,X_train,y_train):\n",
        "    model.fit(X_train,y_train)  \n",
        "    y_pred = model.predict(X_test)\n",
        "    return y_pred\n",
        "\n",
        "    "
      ],
      "execution_count": null,
      "outputs": []
    },
    {
      "cell_type": "code",
      "metadata": {
        "execution": {
          "iopub.status.busy": "2021-07-11T16:47:13.969226Z",
          "iopub.execute_input": "2021-07-11T16:47:13.969601Z",
          "iopub.status.idle": "2021-07-11T16:47:13.975085Z",
          "shell.execute_reply.started": "2021-07-11T16:47:13.969564Z",
          "shell.execute_reply": "2021-07-11T16:47:13.9741Z"
        },
        "trusted": true,
        "id": "ZiWV9XoKQwrH"
      },
      "source": [
        "def scoreModel(y_test,y_pred):\n",
        "    print(\"Accuracy = \"+str(accuracy_score(y_test,y_pred)))\n",
        "    confusion_matrix_test = confusion_matrix(y_test, y_pred)\n",
        "    print(confusion_matrix_test)\n"
      ],
      "execution_count": null,
      "outputs": []
    },
    {
      "cell_type": "code",
      "metadata": {
        "execution": {
          "iopub.status.busy": "2021-07-06T14:53:55.543038Z",
          "iopub.execute_input": "2021-07-06T14:53:55.543566Z",
          "iopub.status.idle": "2021-07-06T14:54:15.687062Z",
          "shell.execute_reply.started": "2021-07-06T14:53:55.543525Z",
          "shell.execute_reply": "2021-07-06T14:54:15.685704Z"
        },
        "trusted": true,
        "id": "YCK-7NBXQwrI"
      },
      "source": [
        "\"\"\"\n",
        "from xgboost import XGBClassifier\n",
        "xgb = XGBClassifier(n_estimators=500,max_depth=5,booster='gbtree',n_jobs=-1,learning_rate=0.1,reg_lambda=0.01,reg_alpha=0.3)\n",
        "xgb.fit(X_train,y_train)\n",
        "y_pred_XGB = xgb.predict(X_test)\n",
        "print(\"Accuracy = \"+str(accuracy_score(y_test,y_pred_XGB)))\n",
        "#print(confusion_matrix_balanced)\n",
        "\n",
        "from xgboost import XGBClassifier\n",
        "\n",
        "\n",
        "clf = XGBClassifier(max_depth=5, objective='multi:softmax', n_estimators=100,num_classes=5)\n",
        "\n",
        "clf.fit(X_train,y_train)  \n",
        "y_pred_XGB = clf.predict(X_test)\"\"\"\n",
        "\n",
        "\"\"\""
      ],
      "execution_count": null,
      "outputs": []
    },
    {
      "cell_type": "code",
      "metadata": {
        "execution": {
          "iopub.status.busy": "2021-07-11T16:47:29.160004Z",
          "iopub.execute_input": "2021-07-11T16:47:29.160435Z"
        },
        "trusted": true,
        "id": "wPzq1zwiQwrI"
      },
      "source": [
        "\"\"\"\n",
        "from sklearn import svm\n",
        "svc = svm.SVC(kernel='linear', C=1)\n",
        "y_pred = buildModel(svc,X_train, y_train)\n",
        "scoreModel(y_test,y_pred)\n",
        "\"\"\"\n"
      ],
      "execution_count": null,
      "outputs": []
    },
    {
      "cell_type": "code",
      "metadata": {
        "id": "zqbZlXnL5wek"
      },
      "source": [
        ""
      ],
      "execution_count": null,
      "outputs": []
    },
    {
      "cell_type": "code",
      "metadata": {
        "colab": {
          "base_uri": "https://localhost:8080/"
        },
        "id": "6aAxOkXHVQLB",
        "outputId": "31a68a6e-d13d-49e8-899b-59dd5a28dbd0"
      },
      "source": [
        "from sklearn import svm\n",
        "lsvc = svm.LinearSVC(verbose=0,dual=False,class_weight='balanced')\n",
        "lsvc.fit(X_train, y_train)\n",
        "ypred = lsvc.predict(X_test)\n",
        "print(\"Accuracy = \"+str(accuracy_score(y_test,ypred)))\n",
        "\n",
        "cm = confusion_matrix(y_test, ypred)\n",
        "print(cm)\n"
      ],
      "execution_count": null,
      "outputs": [
        {
          "output_type": "stream",
          "text": [
            "Accuracy = 0.15846832173693787\n",
            "[[     1 385308      0      0      0]\n",
            " [225670 104427      1     14      0]\n",
            " [     6     25     76      0      0]\n",
            " [   112   6284      2  11765      0]\n",
            " [     0     14      0      0      0]]\n"
          ],
          "name": "stdout"
        }
      ]
    },
    {
      "cell_type": "code",
      "metadata": {
        "id": "ith3DMkWSFhr",
        "colab": {
          "base_uri": "https://localhost:8080/",
          "height": 231
        },
        "outputId": "0acc1781-b51b-436f-b7eb-638fe10fb144"
      },
      "source": [
        "from sklearn import svm\n",
        "\n",
        "svc = svm.SVC(kernel='linear', C=1, gamma='auto',probability=False,n_jobs=-1,cache_size=7000).fit(X_train,y_train)\n",
        "ypred = svc.predict(X_test)\n",
        "print(\"Accuracy = \"+str(accuracy_score(y_test,ypred)))\n",
        "\n",
        "cm = confusion_matrix(y_test, ypred)\n",
        "print(cm)"
      ],
      "execution_count": null,
      "outputs": [
        {
          "output_type": "error",
          "ename": "TypeError",
          "evalue": "ignored",
          "traceback": [
            "\u001b[0;31m---------------------------------------------------------------------------\u001b[0m",
            "\u001b[0;31mTypeError\u001b[0m                                 Traceback (most recent call last)",
            "\u001b[0;32m<ipython-input-33-2564cf6ce8a3>\u001b[0m in \u001b[0;36m<module>\u001b[0;34m()\u001b[0m\n\u001b[1;32m      1\u001b[0m \u001b[0;32mfrom\u001b[0m \u001b[0msklearn\u001b[0m \u001b[0;32mimport\u001b[0m \u001b[0msvm\u001b[0m\u001b[0;34m\u001b[0m\u001b[0;34m\u001b[0m\u001b[0m\n\u001b[1;32m      2\u001b[0m \u001b[0;34m\u001b[0m\u001b[0m\n\u001b[0;32m----> 3\u001b[0;31m \u001b[0msvc\u001b[0m \u001b[0;34m=\u001b[0m \u001b[0msvm\u001b[0m\u001b[0;34m.\u001b[0m\u001b[0mSVC\u001b[0m\u001b[0;34m(\u001b[0m\u001b[0mkernel\u001b[0m\u001b[0;34m=\u001b[0m\u001b[0;34m'linear'\u001b[0m\u001b[0;34m,\u001b[0m \u001b[0mC\u001b[0m\u001b[0;34m=\u001b[0m\u001b[0;36m1\u001b[0m\u001b[0;34m,\u001b[0m \u001b[0mgamma\u001b[0m\u001b[0;34m=\u001b[0m\u001b[0;34m'auto'\u001b[0m\u001b[0;34m,\u001b[0m\u001b[0mprobability\u001b[0m\u001b[0;34m=\u001b[0m\u001b[0;32mFalse\u001b[0m\u001b[0;34m,\u001b[0m\u001b[0mn_jobs\u001b[0m\u001b[0;34m=\u001b[0m\u001b[0;34m-\u001b[0m\u001b[0;36m1\u001b[0m\u001b[0;34m,\u001b[0m\u001b[0mcache_size\u001b[0m\u001b[0;34m=\u001b[0m\u001b[0;36m7000\u001b[0m\u001b[0;34m)\u001b[0m\u001b[0;34m.\u001b[0m\u001b[0mfit\u001b[0m\u001b[0;34m(\u001b[0m\u001b[0mX_train\u001b[0m\u001b[0;34m,\u001b[0m\u001b[0my_train\u001b[0m\u001b[0;34m)\u001b[0m\u001b[0;34m\u001b[0m\u001b[0;34m\u001b[0m\u001b[0m\n\u001b[0m\u001b[1;32m      4\u001b[0m \u001b[0mypred\u001b[0m \u001b[0;34m=\u001b[0m \u001b[0msvc\u001b[0m\u001b[0;34m.\u001b[0m\u001b[0mpredict\u001b[0m\u001b[0;34m(\u001b[0m\u001b[0mX_test\u001b[0m\u001b[0;34m)\u001b[0m\u001b[0;34m\u001b[0m\u001b[0;34m\u001b[0m\u001b[0m\n\u001b[1;32m      5\u001b[0m \u001b[0mprint\u001b[0m\u001b[0;34m(\u001b[0m\u001b[0;34m\"Accuracy = \"\u001b[0m\u001b[0;34m+\u001b[0m\u001b[0mstr\u001b[0m\u001b[0;34m(\u001b[0m\u001b[0maccuracy_score\u001b[0m\u001b[0;34m(\u001b[0m\u001b[0my_test\u001b[0m\u001b[0;34m,\u001b[0m\u001b[0mypred\u001b[0m\u001b[0;34m)\u001b[0m\u001b[0;34m)\u001b[0m\u001b[0;34m)\u001b[0m\u001b[0;34m\u001b[0m\u001b[0;34m\u001b[0m\u001b[0m\n",
            "\u001b[0;31mTypeError\u001b[0m: __init__() got an unexpected keyword argument 'n_jobs'"
          ]
        }
      ]
    },
    {
      "cell_type": "code",
      "metadata": {
        "id": "iN4XSFu3SN96"
      },
      "source": [
        "# Bagging creates several models that rely on the same algorithm.\n",
        "# The training of each model uses a different subset of data sampled randomly from the training set.\n",
        "# By default Bagging uses soft voting when its base estimator can provide its measure of confidence,\n",
        "# Hence the SVC model is set to have probability=True\n",
        "from sklearn.svm import SVC\n",
        "from sklearn.ensemble import BaggingClassifier\n",
        "\n",
        "bagging_clf = BaggingClassifier(SVC(gamma='scale', probability=False, random_state=42),\n",
        "                                bootstrap=True, # set to False to use Pasting instead of Bagging\n",
        "                                n_estimators=100, # number of SVC models to create\n",
        "                                max_samples=10000, # each model is trained from randomly sampled 100 instances \n",
        "                                random_state=42,\n",
        "                               )\n",
        "bagging_clf.fit(X_train, y_train) # training\n",
        "y_pred_bagging = bagging_clf.predict(X_test) # predicting\n",
        "accuracy_score(y_test, y_pred_bagging) # evaluating"
      ],
      "execution_count": null,
      "outputs": []
    },
    {
      "cell_type": "code",
      "metadata": {
        "colab": {
          "base_uri": "https://localhost:8080/"
        },
        "id": "6Eq096Mzpvva",
        "outputId": "d9812742-e1cd-4eea-c1d8-ec007f1ac4c5"
      },
      "source": [
        "import os\n",
        "os.cpu_count()"
      ],
      "execution_count": null,
      "outputs": [
        {
          "output_type": "execute_result",
          "data": {
            "text/plain": [
              "2"
            ]
          },
          "metadata": {
            "tags": []
          },
          "execution_count": 1
        }
      ]
    },
    {
      "cell_type": "code",
      "metadata": {
        "id": "xeishZafugm3"
      },
      "source": [
        ""
      ],
      "execution_count": null,
      "outputs": []
    }
  ]
}